{
 "cells": [
  {
   "cell_type": "markdown",
   "metadata": {},
   "source": [
    "# Project Design Writeup\n",
    "\n"
   ]
  },
  {
   "cell_type": "markdown",
   "metadata": {},
   "source": [
    "### Project Problem and Hypothesis\n",
    "\n",
    "* The aim of this project is to develop a time series regression analysis to predict the number of international tourists arriving in New York in a given month.\n",
    "* The model will be used to predict a discrete number using supervised learning with the predictor variables being time (month and year) and exchange rates for the most relevant currencies (at least the Euro, and additonal ones TBD).\n",
    "* Finding a successful model could help private and public organizations to plan for increases or decreases in the number of tourists visiting the city from one month to the next. For example, a tour company could have a better idea of how many guides they need on staff based on the expected number of international tourists. \n",
    "* I think the seasonal factor of the time of year(Summer vs Fall) will have the biggest impact and on a lesser level the measure of the exchange rate in the previous month for relevant currencies will be the best predictors for the number of international visitors.\n"
   ]
  },
  {
   "cell_type": "markdown",
   "metadata": {},
   "source": [
    "### Datasets\n",
    "* I have access to monthly international visitors (not including from Canada and Mexico) arriving in New York City airports (New York and Newark combined) going back to 2007. This is in the form of various Excel spreadsheets, so I need to combine the data together into one data frame. The numbers are cumulative from month to month, so I will need to take the differences using \".diff\" function between different months once I have the data frame. Additionally I will need to append additional columns that contain the exchange rates for the USD compared to relevant currencies.\n",
    "* The code below shows my attempt to merge the different existing Excel spreadsheets into a data frame.I ran into an issue becaus the different spreadsheets contain multiple tabs. I found out that I could convert each tab into a separate csv file. However, I could not figure out how to do this other than manually. Since there are 7 spreadhsheets with 12 tabs each, this would be a pretty tedious process. I need to determine if there is a more efficient way of doing this.\n"
   ]
  },
  {
   "cell_type": "code",
   "execution_count": 2,
   "metadata": {
    "collapsed": true
   },
   "outputs": [],
   "source": [
    "import numpy as np\n",
    "import pandas as pd"
   ]
  },
  {
   "cell_type": "code",
   "execution_count": 3,
   "metadata": {
    "collapsed": false
   },
   "outputs": [
    {
     "name": "stdout",
     "output_type": "stream",
     "text": [
      "/Users/mikaelroussel/Desktop/Data Science Final Project/Monthly arrivals\n"
     ]
    }
   ],
   "source": [
    "cd ../../../Desktop/Data Science Final Project/Monthly arrivals"
   ]
  },
  {
   "cell_type": "code",
   "execution_count": 4,
   "metadata": {
    "collapsed": false,
    "scrolled": true
   },
   "outputs": [
    {
     "name": "stdout",
     "output_type": "stream",
     "text": [
      "top_ports-2007.xls  top_ports-2009.xls  top_ports-2011.xls  top_ports-2013.xls\r\n",
      "top_ports-2008.xls  top_ports-2010.xls  top_ports-2012.xls\r\n"
     ]
    }
   ],
   "source": [
    "ls"
   ]
  },
  {
   "cell_type": "code",
   "execution_count": 5,
   "metadata": {
    "collapsed": false
   },
   "outputs": [
    {
     "data": {
      "text/plain": [
       "u'/Users/mikaelroussel/Desktop/Data Science Final Project/Monthly arrivals'"
      ]
     },
     "execution_count": 5,
     "metadata": {},
     "output_type": "execute_result"
    }
   ],
   "source": [
    "pwd"
   ]
  },
  {
   "cell_type": "code",
   "execution_count": 6,
   "metadata": {
    "collapsed": false
   },
   "outputs": [
    {
     "data": {
      "text/plain": [
       "['top_ports-2007.xls',\n",
       " 'top_ports-2008.xls',\n",
       " 'top_ports-2009.xls',\n",
       " 'top_ports-2010.xls',\n",
       " 'top_ports-2011.xls',\n",
       " 'top_ports-2012.xls',\n",
       " 'top_ports-2013.xls']"
      ]
     },
     "execution_count": 6,
     "metadata": {},
     "output_type": "execute_result"
    }
   ],
   "source": [
    "import glob\n",
    "glob.glob(\"*.xls\")\n",
    "\n"
   ]
  },
  {
   "cell_type": "code",
   "execution_count": 41,
   "metadata": {
    "collapsed": false
   },
   "outputs": [],
   "source": [
    "monthly_arrivals_1 = pd.DataFrame()\n",
    "for f in glob.glob(\"*.xls\"):\n",
    "    monthly_arrivals_2 = pd.read_excel(f)\n",
    "    monthly_arrivals = monthly_arrivals_1.append(monthly_arrivals_2,ignore_index=True)\n"
   ]
  },
  {
   "cell_type": "code",
   "execution_count": 42,
   "metadata": {
    "collapsed": false
   },
   "outputs": [
    {
     "data": {
      "text/html": [
       "<div>\n",
       "<table border=\"1\" class=\"dataframe\">\n",
       "  <thead>\n",
       "    <tr style=\"text-align: right;\">\n",
       "      <th></th>\n",
       "      <th>U.S. PORT OF ENTRY (ALL MODES) OF NON-U.S. RESIDENT ARRIVALS</th>\n",
       "      <th>Unnamed: 1</th>\n",
       "      <th>Unnamed: 2</th>\n",
       "      <th>Unnamed: 3</th>\n",
       "    </tr>\n",
       "  </thead>\n",
       "  <tbody>\n",
       "    <tr>\n",
       "      <th>count</th>\n",
       "      <td>24</td>\n",
       "      <td>19</td>\n",
       "      <td>18.000000</td>\n",
       "      <td>16</td>\n",
       "    </tr>\n",
       "    <tr>\n",
       "      <th>unique</th>\n",
       "      <td>24</td>\n",
       "      <td>19</td>\n",
       "      <td>18.000000</td>\n",
       "      <td>16</td>\n",
       "    </tr>\n",
       "    <tr>\n",
       "      <th>top</th>\n",
       "      <td>January YTD 2013</td>\n",
       "      <td>2013</td>\n",
       "      <td>0.001877</td>\n",
       "      <td>14</td>\n",
       "    </tr>\n",
       "    <tr>\n",
       "      <th>freq</th>\n",
       "      <td>1</td>\n",
       "      <td>1</td>\n",
       "      <td>1.000000</td>\n",
       "      <td>1</td>\n",
       "    </tr>\n",
       "  </tbody>\n",
       "</table>\n",
       "</div>"
      ],
      "text/plain": [
       "       U.S. PORT OF ENTRY (ALL MODES) OF NON-U.S. RESIDENT ARRIVALS  \\\n",
       "count                                                  24             \n",
       "unique                                                 24             \n",
       "top                                      January YTD 2013             \n",
       "freq                                                    1             \n",
       "\n",
       "        Unnamed: 1  Unnamed: 2  Unnamed: 3  \n",
       "count           19   18.000000          16  \n",
       "unique          19   18.000000          16  \n",
       "top           2013    0.001877          14  \n",
       "freq             1    1.000000           1  "
      ]
     },
     "execution_count": 42,
     "metadata": {},
     "output_type": "execute_result"
    }
   ],
   "source": [
    "monthly_arrivals.describe()"
   ]
  },
  {
   "cell_type": "code",
   "execution_count": 43,
   "metadata": {
    "collapsed": false
   },
   "outputs": [
    {
     "data": {
      "text/html": [
       "<div>\n",
       "<table border=\"1\" class=\"dataframe\">\n",
       "  <thead>\n",
       "    <tr style=\"text-align: right;\">\n",
       "      <th></th>\n",
       "      <th>U.S. PORT OF ENTRY (ALL MODES) OF NON-U.S. RESIDENT ARRIVALS</th>\n",
       "      <th>Unnamed: 1</th>\n",
       "      <th>Unnamed: 2</th>\n",
       "      <th>Unnamed: 3</th>\n",
       "    </tr>\n",
       "  </thead>\n",
       "  <tbody>\n",
       "    <tr>\n",
       "      <th>0</th>\n",
       "      <td>NaN</td>\n",
       "      <td>NaN</td>\n",
       "      <td>NaN</td>\n",
       "      <td>NaN</td>\n",
       "    </tr>\n",
       "    <tr>\n",
       "      <th>1</th>\n",
       "      <td>January YTD 2013</td>\n",
       "      <td>NaN</td>\n",
       "      <td>NaN</td>\n",
       "      <td>NaN</td>\n",
       "    </tr>\n",
       "    <tr>\n",
       "      <th>2</th>\n",
       "      <td>NaN</td>\n",
       "      <td>NaN</td>\n",
       "      <td>NaN</td>\n",
       "      <td>NaN</td>\n",
       "    </tr>\n",
       "    <tr>\n",
       "      <th>3</th>\n",
       "      <td>NaN</td>\n",
       "      <td>2013</td>\n",
       "      <td>NaN</td>\n",
       "      <td>NaN</td>\n",
       "    </tr>\n",
       "    <tr>\n",
       "      <th>4</th>\n",
       "      <td>NaN</td>\n",
       "      <td>TOTAL</td>\n",
       "      <td>% change</td>\n",
       "      <td>NaN</td>\n",
       "    </tr>\n",
       "  </tbody>\n",
       "</table>\n",
       "</div>"
      ],
      "text/plain": [
       "  U.S. PORT OF ENTRY (ALL MODES) OF NON-U.S. RESIDENT ARRIVALS Unnamed: 1  \\\n",
       "0                                                NaN                  NaN   \n",
       "1                                   January YTD 2013                  NaN   \n",
       "2                                                NaN                  NaN   \n",
       "3                                                NaN                 2013   \n",
       "4                                                NaN                TOTAL   \n",
       "\n",
       "  Unnamed: 2 Unnamed: 3  \n",
       "0        NaN        NaN  \n",
       "1        NaN        NaN  \n",
       "2        NaN        NaN  \n",
       "3        NaN        NaN  \n",
       "4   % change        NaN  "
      ]
     },
     "execution_count": 43,
     "metadata": {},
     "output_type": "execute_result"
    }
   ],
   "source": [
    "monthly_arrivals.head()"
   ]
  },
  {
   "cell_type": "code",
   "execution_count": 18,
   "metadata": {
    "collapsed": false
   },
   "outputs": [
    {
     "data": {
      "text/html": [
       "<div>\n",
       "<table border=\"1\" class=\"dataframe\">\n",
       "  <thead>\n",
       "    <tr style=\"text-align: right;\">\n",
       "      <th></th>\n",
       "      <th>U.S. PORT OF ENTRY (ALL MODES) OF NON-U.S. RESIDENT ARRIVALS</th>\n",
       "      <th>Unnamed: 1</th>\n",
       "      <th>Unnamed: 2</th>\n",
       "      <th>Unnamed: 3</th>\n",
       "    </tr>\n",
       "  </thead>\n",
       "  <tbody>\n",
       "    <tr>\n",
       "      <th>0</th>\n",
       "      <td>NaN</td>\n",
       "      <td>NaN</td>\n",
       "      <td>NaN</td>\n",
       "      <td>NaN</td>\n",
       "    </tr>\n",
       "    <tr>\n",
       "      <th>1</th>\n",
       "      <td>January YTD 2013</td>\n",
       "      <td>NaN</td>\n",
       "      <td>NaN</td>\n",
       "      <td>NaN</td>\n",
       "    </tr>\n",
       "    <tr>\n",
       "      <th>2</th>\n",
       "      <td>NaN</td>\n",
       "      <td>NaN</td>\n",
       "      <td>NaN</td>\n",
       "      <td>NaN</td>\n",
       "    </tr>\n",
       "    <tr>\n",
       "      <th>3</th>\n",
       "      <td>NaN</td>\n",
       "      <td>2013</td>\n",
       "      <td>NaN</td>\n",
       "      <td>NaN</td>\n",
       "    </tr>\n",
       "    <tr>\n",
       "      <th>4</th>\n",
       "      <td>NaN</td>\n",
       "      <td>TOTAL</td>\n",
       "      <td>% change</td>\n",
       "      <td>NaN</td>\n",
       "    </tr>\n",
       "    <tr>\n",
       "      <th>5</th>\n",
       "      <td>PORTS</td>\n",
       "      <td>OVERSEAS*</td>\n",
       "      <td>2013/2012</td>\n",
       "      <td>Rank</td>\n",
       "    </tr>\n",
       "    <tr>\n",
       "      <th>6</th>\n",
       "      <td>GRAND TOTAL</td>\n",
       "      <td>2073242</td>\n",
       "      <td>0.0654669</td>\n",
       "      <td>NaN</td>\n",
       "    </tr>\n",
       "    <tr>\n",
       "      <th>7</th>\n",
       "      <td>MIAMI, FL</td>\n",
       "      <td>350304</td>\n",
       "      <td>0.134507</td>\n",
       "      <td>1</td>\n",
       "    </tr>\n",
       "    <tr>\n",
       "      <th>8</th>\n",
       "      <td>NEW YORK, NY</td>\n",
       "      <td>291296</td>\n",
       "      <td>0.0895354</td>\n",
       "      <td>2</td>\n",
       "    </tr>\n",
       "    <tr>\n",
       "      <th>9</th>\n",
       "      <td>LOS ANGELES, CA</td>\n",
       "      <td>210824</td>\n",
       "      <td>0.00187712</td>\n",
       "      <td>3</td>\n",
       "    </tr>\n",
       "    <tr>\n",
       "      <th>10</th>\n",
       "      <td>HONOLULU, HI</td>\n",
       "      <td>158094</td>\n",
       "      <td>0.0454915</td>\n",
       "      <td>4</td>\n",
       "    </tr>\n",
       "    <tr>\n",
       "      <th>11</th>\n",
       "      <td>SAN FRANCISCO, CA</td>\n",
       "      <td>106854</td>\n",
       "      <td>-0.0218239</td>\n",
       "      <td>5</td>\n",
       "    </tr>\n",
       "    <tr>\n",
       "      <th>12</th>\n",
       "      <td>AGANA, GU</td>\n",
       "      <td>106324</td>\n",
       "      <td>0.00698003</td>\n",
       "      <td>6</td>\n",
       "    </tr>\n",
       "    <tr>\n",
       "      <th>13</th>\n",
       "      <td>NEWARK, NJ</td>\n",
       "      <td>103488</td>\n",
       "      <td>0.075267</td>\n",
       "      <td>7</td>\n",
       "    </tr>\n",
       "    <tr>\n",
       "      <th>14</th>\n",
       "      <td>CHICAGO, IL</td>\n",
       "      <td>86736</td>\n",
       "      <td>0.0143612</td>\n",
       "      <td>8</td>\n",
       "    </tr>\n",
       "    <tr>\n",
       "      <th>15</th>\n",
       "      <td>ORLANDO, FL</td>\n",
       "      <td>74348</td>\n",
       "      <td>0.224803</td>\n",
       "      <td>9</td>\n",
       "    </tr>\n",
       "    <tr>\n",
       "      <th>16</th>\n",
       "      <td>ATLANTA, GA</td>\n",
       "      <td>64768</td>\n",
       "      <td>0.00303537</td>\n",
       "      <td>10</td>\n",
       "    </tr>\n",
       "    <tr>\n",
       "      <th>17</th>\n",
       "      <td>WASHINGTON, DC</td>\n",
       "      <td>61037</td>\n",
       "      <td>0.0601487</td>\n",
       "      <td>11</td>\n",
       "    </tr>\n",
       "    <tr>\n",
       "      <th>18</th>\n",
       "      <td>HOUSTON, TX</td>\n",
       "      <td>49605</td>\n",
       "      <td>0.0364172</td>\n",
       "      <td>12</td>\n",
       "    </tr>\n",
       "    <tr>\n",
       "      <th>19</th>\n",
       "      <td>DALLAS, TX</td>\n",
       "      <td>40052</td>\n",
       "      <td>0.163119</td>\n",
       "      <td>13</td>\n",
       "    </tr>\n",
       "    <tr>\n",
       "      <th>20</th>\n",
       "      <td>DETROIT, MI</td>\n",
       "      <td>39432</td>\n",
       "      <td>0.0317921</td>\n",
       "      <td>14</td>\n",
       "    </tr>\n",
       "    <tr>\n",
       "      <th>21</th>\n",
       "      <td>BLAINE, WA</td>\n",
       "      <td>29008</td>\n",
       "      <td>0.199768</td>\n",
       "      <td>15</td>\n",
       "    </tr>\n",
       "    <tr>\n",
       "      <th>22</th>\n",
       "      <td>NaN</td>\n",
       "      <td>NaN</td>\n",
       "      <td>NaN</td>\n",
       "      <td>NaN</td>\n",
       "    </tr>\n",
       "    <tr>\n",
       "      <th>23</th>\n",
       "      <td>Source:  U.S. Department of Commerce, ITA, Off...</td>\n",
       "      <td>NaN</td>\n",
       "      <td>NaN</td>\n",
       "      <td>NaN</td>\n",
       "    </tr>\n",
       "    <tr>\n",
       "      <th>24</th>\n",
       "      <td>from the Summary of Internation...</td>\n",
       "      <td>NaN</td>\n",
       "      <td>NaN</td>\n",
       "      <td>NaN</td>\n",
       "    </tr>\n",
       "    <tr>\n",
       "      <th>25</th>\n",
       "      <td>NaN</td>\n",
       "      <td>NaN</td>\n",
       "      <td>NaN</td>\n",
       "      <td>NaN</td>\n",
       "    </tr>\n",
       "    <tr>\n",
       "      <th>26</th>\n",
       "      <td>*Overseas includes all countries except Canada...</td>\n",
       "      <td>NaN</td>\n",
       "      <td>NaN</td>\n",
       "      <td>NaN</td>\n",
       "    </tr>\n",
       "    <tr>\n",
       "      <th>27</th>\n",
       "      <td>NaN</td>\n",
       "      <td>NaN</td>\n",
       "      <td>NaN</td>\n",
       "      <td>NaN</td>\n",
       "    </tr>\n",
       "    <tr>\n",
       "      <th>28</th>\n",
       "      <td>Note:  This is one column from a report contai...</td>\n",
       "      <td>NaN</td>\n",
       "      <td>NaN</td>\n",
       "      <td>NaN</td>\n",
       "    </tr>\n",
       "    <tr>\n",
       "      <th>29</th>\n",
       "      <td>Forty ports of entry are tracked ea...</td>\n",
       "      <td>NaN</td>\n",
       "      <td>NaN</td>\n",
       "      <td>NaN</td>\n",
       "    </tr>\n",
       "    <tr>\n",
       "      <th>30</th>\n",
       "      <td>NaN</td>\n",
       "      <td>NaN</td>\n",
       "      <td>NaN</td>\n",
       "      <td>NaN</td>\n",
       "    </tr>\n",
       "    <tr>\n",
       "      <th>31</th>\n",
       "      <td>Release date:  August 2013</td>\n",
       "      <td>NaN</td>\n",
       "      <td>NaN</td>\n",
       "      <td>NaN</td>\n",
       "    </tr>\n",
       "  </tbody>\n",
       "</table>\n",
       "</div>"
      ],
      "text/plain": [
       "   U.S. PORT OF ENTRY (ALL MODES) OF NON-U.S. RESIDENT ARRIVALS Unnamed: 1  \\\n",
       "0                                                 NaN                  NaN   \n",
       "1                                    January YTD 2013                  NaN   \n",
       "2                                                 NaN                  NaN   \n",
       "3                                                 NaN                 2013   \n",
       "4                                                 NaN                TOTAL   \n",
       "5                                               PORTS            OVERSEAS*   \n",
       "6                                         GRAND TOTAL              2073242   \n",
       "7                                           MIAMI, FL               350304   \n",
       "8                                        NEW YORK, NY               291296   \n",
       "9                                     LOS ANGELES, CA               210824   \n",
       "10                                       HONOLULU, HI               158094   \n",
       "11                                  SAN FRANCISCO, CA               106854   \n",
       "12                                          AGANA, GU               106324   \n",
       "13                                         NEWARK, NJ               103488   \n",
       "14                                        CHICAGO, IL                86736   \n",
       "15                                        ORLANDO, FL                74348   \n",
       "16                                        ATLANTA, GA                64768   \n",
       "17                                     WASHINGTON, DC                61037   \n",
       "18                                        HOUSTON, TX                49605   \n",
       "19                                         DALLAS, TX                40052   \n",
       "20                                        DETROIT, MI                39432   \n",
       "21                                         BLAINE, WA                29008   \n",
       "22                                                NaN                  NaN   \n",
       "23  Source:  U.S. Department of Commerce, ITA, Off...                  NaN   \n",
       "24                 from the Summary of Internation...                  NaN   \n",
       "25                                                NaN                  NaN   \n",
       "26  *Overseas includes all countries except Canada...                  NaN   \n",
       "27                                                NaN                  NaN   \n",
       "28  Note:  This is one column from a report contai...                  NaN   \n",
       "29             Forty ports of entry are tracked ea...                  NaN   \n",
       "30                                                NaN                  NaN   \n",
       "31                         Release date:  August 2013                  NaN   \n",
       "\n",
       "    Unnamed: 2 Unnamed: 3  \n",
       "0          NaN        NaN  \n",
       "1          NaN        NaN  \n",
       "2          NaN        NaN  \n",
       "3          NaN        NaN  \n",
       "4     % change        NaN  \n",
       "5    2013/2012       Rank  \n",
       "6    0.0654669        NaN  \n",
       "7     0.134507          1  \n",
       "8    0.0895354          2  \n",
       "9   0.00187712          3  \n",
       "10   0.0454915          4  \n",
       "11  -0.0218239          5  \n",
       "12  0.00698003          6  \n",
       "13    0.075267          7  \n",
       "14   0.0143612          8  \n",
       "15    0.224803          9  \n",
       "16  0.00303537         10  \n",
       "17   0.0601487         11  \n",
       "18   0.0364172         12  \n",
       "19    0.163119         13  \n",
       "20   0.0317921         14  \n",
       "21    0.199768         15  \n",
       "22         NaN        NaN  \n",
       "23         NaN        NaN  \n",
       "24         NaN        NaN  \n",
       "25         NaN        NaN  \n",
       "26         NaN        NaN  \n",
       "27         NaN        NaN  \n",
       "28         NaN        NaN  \n",
       "29         NaN        NaN  \n",
       "30         NaN        NaN  \n",
       "31         NaN        NaN  "
      ]
     },
     "execution_count": 18,
     "metadata": {},
     "output_type": "execute_result"
    }
   ],
   "source": [
    "monthly_arrivals[:]"
   ]
  },
  {
   "cell_type": "markdown",
   "metadata": {},
   "source": [
    "### Domain knowledge\n",
    "\n",
    "* I have studied International Economics. This has some relevance given that I want to include exchange rates a predictor variable, although this is a pretty simple analysis, so I don't think a deep understanding of currency markets is needed. \n",
    "* While doing an internet search it seems like the main organization trying to predict visitor numbers to New York City is NYC & Company, the official tourism marketing organization for the city. I found a predicted number for total visitors in 2016. This is different from the model I'm working on because I will focus on international tourists on a monthly basis."
   ]
  },
  {
   "cell_type": "markdown",
   "metadata": {},
   "source": [
    "### Project Concerns\n",
    "\n",
    "* At this point, I need to combine all the different spreadsheets into a usable data frame. I would like to figure out an efficient way to read the different tabs within the spreadsheets.\n",
    "* A major assumption I am making is that international visitors arriving in New York City airports are actually spending some time in the city and not just flying through. I am also assuming that the same airports have been used to count the number of visitors arriving (i.e JFK and Newark during the whole timeframe I am looking at).\n",
    " * I wish I could predict the total number of visitors (both foreign and domestic) but I do not have monthly information for the number of domestic tourists to New York City.\n",
    "* The risk of the model being wrong is not very high. At worst, organizations will not plan resources well to deal with the number of international tourists.\n",
    "* There is a chance of especially the later monthly visitor numbers being incorrect and later being revised. There is a warning about this on the source website."
   ]
  },
  {
   "cell_type": "markdown",
   "metadata": {},
   "source": [
    "### Outcomes\n",
    "\n",
    "* I expect the output to be a predicted number for the last month available for international tourists arriving to New York City. I will include all previous months probably going back to 2007 to train the model. I think I will also include a comparison of a prediction that only took into account the seasonal variable in the visitors number to see if including the exchange rates in the previous month created a more accurare prediction. \n",
    " * There will also be a summary table evaluating the model like R squared, the coefficient values for the exchange rates, correlation and the p-value.\n",
    " * A graph showing the historic trend in the visitors numbers will be part of the output as well.\n",
    "* I don't think my target audience would have any expectation other than a basic description of the variables used (historic numbers and exchange rates) as well as how successul the prediction was.\n",
    "* I would expect a 1 unit change in exchange rate (gain of foreign currency(ies) vs. USD)would result in a 20,000 increase in the number of arrivals.\n",
    "* The model developed could be considered successful if both the time variable and at least one exchange rate have coefficients that are statistically significant at the 95% confidence level.\n",
    "* If the project is not successful in terms of developing a strong predictive model, then I will see if removing certain predictive variables helps. If this does not work, I will conclude that I used the wrong variables and hypothesize about what variables would be better to use."
   ]
  }
 ],
 "metadata": {
  "anaconda-cloud": {},
  "kernelspec": {
   "display_name": "Python [Root]",
   "language": "python",
   "name": "Python [Root]"
  },
  "language_info": {
   "codemirror_mode": {
    "name": "ipython",
    "version": 2
   },
   "file_extension": ".py",
   "mimetype": "text/x-python",
   "name": "python",
   "nbconvert_exporter": "python",
   "pygments_lexer": "ipython2",
   "version": "2.7.12"
  }
 },
 "nbformat": 4,
 "nbformat_minor": 0
}
