{
 "cells": [
  {
   "cell_type": "code",
   "execution_count": 2,
   "metadata": {
    "collapsed": true
   },
   "outputs": [],
   "source": [
    "import pandas as pd\n",
    "import numpy as np\n",
    "import matplotlib.pyplot as plt\n",
    "import statsmodels.formula.api as smf\n",
    "%matplotlib inline"
   ]
  },
  {
   "cell_type": "code",
   "execution_count": 3,
   "metadata": {
    "collapsed": false
   },
   "outputs": [],
   "source": [
    "visitors=pd.read_excel('../../../Desktop/Data Science Final Project/Monthly arrivals/International Visitors to NYC.xls')"
   ]
  },
  {
   "cell_type": "code",
   "execution_count": 4,
   "metadata": {
    "collapsed": false
   },
   "outputs": [
    {
     "data": {
      "text/html": [
       "<div>\n",
       "<table border=\"1\" class=\"dataframe\">\n",
       "  <thead>\n",
       "    <tr style=\"text-align: right;\">\n",
       "      <th></th>\n",
       "      <th>International Visitors</th>\n",
       "      <th>Year</th>\n",
       "      <th>Month</th>\n",
       "      <th>EUR/USD average monthly exchange rate</th>\n",
       "    </tr>\n",
       "    <tr>\n",
       "      <th>Year and Month</th>\n",
       "      <th></th>\n",
       "      <th></th>\n",
       "      <th></th>\n",
       "      <th></th>\n",
       "    </tr>\n",
       "  </thead>\n",
       "  <tbody>\n",
       "    <tr>\n",
       "      <th>2007-01-01</th>\n",
       "      <td>296193</td>\n",
       "      <td>2007</td>\n",
       "      <td>1</td>\n",
       "      <td>1.299218</td>\n",
       "    </tr>\n",
       "    <tr>\n",
       "      <th>2007-02-01</th>\n",
       "      <td>311727</td>\n",
       "      <td>2007</td>\n",
       "      <td>2</td>\n",
       "      <td>1.307155</td>\n",
       "    </tr>\n",
       "    <tr>\n",
       "      <th>2007-03-01</th>\n",
       "      <td>418833</td>\n",
       "      <td>2007</td>\n",
       "      <td>3</td>\n",
       "      <td>1.323835</td>\n",
       "    </tr>\n",
       "    <tr>\n",
       "      <th>2007-04-01</th>\n",
       "      <td>451262</td>\n",
       "      <td>2007</td>\n",
       "      <td>4</td>\n",
       "      <td>1.349975</td>\n",
       "    </tr>\n",
       "    <tr>\n",
       "      <th>2007-05-01</th>\n",
       "      <td>437930</td>\n",
       "      <td>2007</td>\n",
       "      <td>5</td>\n",
       "      <td>1.351307</td>\n",
       "    </tr>\n",
       "  </tbody>\n",
       "</table>\n",
       "</div>"
      ],
      "text/plain": [
       "                International Visitors  Year  Month  \\\n",
       "Year and Month                                        \n",
       "2007-01-01                      296193  2007      1   \n",
       "2007-02-01                      311727  2007      2   \n",
       "2007-03-01                      418833  2007      3   \n",
       "2007-04-01                      451262  2007      4   \n",
       "2007-05-01                      437930  2007      5   \n",
       "\n",
       "                EUR/USD average monthly exchange rate  \n",
       "Year and Month                                         \n",
       "2007-01-01                                   1.299218  \n",
       "2007-02-01                                   1.307155  \n",
       "2007-03-01                                   1.323835  \n",
       "2007-04-01                                   1.349975  \n",
       "2007-05-01                                   1.351307  "
      ]
     },
     "execution_count": 4,
     "metadata": {},
     "output_type": "execute_result"
    }
   ],
   "source": [
    "visitors['Year and Month'] = pd.to_datetime(visitors['Year and Month'])\n",
    "visitors.set_index('Year and Month', inplace=True)\n",
    "visitors.head()"
   ]
  },
  {
   "cell_type": "markdown",
   "metadata": {},
   "source": [
    "### Exploratory Data Analysis"
   ]
  },
  {
   "cell_type": "code",
   "execution_count": 5,
   "metadata": {
    "collapsed": false,
    "scrolled": false
   },
   "outputs": [
    {
     "data": {
      "text/html": [
       "<div>\n",
       "<table border=\"1\" class=\"dataframe\">\n",
       "  <thead>\n",
       "    <tr style=\"text-align: right;\">\n",
       "      <th></th>\n",
       "      <th>International Visitors</th>\n",
       "      <th>Year</th>\n",
       "      <th>Month</th>\n",
       "      <th>EUR/USD average monthly exchange rate</th>\n",
       "    </tr>\n",
       "  </thead>\n",
       "  <tbody>\n",
       "    <tr>\n",
       "      <th>count</th>\n",
       "      <td>84.000000</td>\n",
       "      <td>84.000000</td>\n",
       "      <td>84.000000</td>\n",
       "      <td>84.000000</td>\n",
       "    </tr>\n",
       "    <tr>\n",
       "      <th>mean</th>\n",
       "      <td>514164.476190</td>\n",
       "      <td>2010.000000</td>\n",
       "      <td>6.500000</td>\n",
       "      <td>1.367088</td>\n",
       "    </tr>\n",
       "    <tr>\n",
       "      <th>std</th>\n",
       "      <td>103142.040168</td>\n",
       "      <td>2.012012</td>\n",
       "      <td>3.472786</td>\n",
       "      <td>0.080824</td>\n",
       "    </tr>\n",
       "    <tr>\n",
       "      <th>min</th>\n",
       "      <td>296193.000000</td>\n",
       "      <td>2007.000000</td>\n",
       "      <td>1.000000</td>\n",
       "      <td>1.221578</td>\n",
       "    </tr>\n",
       "    <tr>\n",
       "      <th>25%</th>\n",
       "      <td>446171.500000</td>\n",
       "      <td>2008.000000</td>\n",
       "      <td>3.750000</td>\n",
       "      <td>1.307376</td>\n",
       "    </tr>\n",
       "    <tr>\n",
       "      <th>50%</th>\n",
       "      <td>531698.000000</td>\n",
       "      <td>2010.000000</td>\n",
       "      <td>6.500000</td>\n",
       "      <td>1.350519</td>\n",
       "    </tr>\n",
       "    <tr>\n",
       "      <th>75%</th>\n",
       "      <td>584491.250000</td>\n",
       "      <td>2012.000000</td>\n",
       "      <td>9.250000</td>\n",
       "      <td>1.426265</td>\n",
       "    </tr>\n",
       "    <tr>\n",
       "      <th>max</th>\n",
       "      <td>709465.000000</td>\n",
       "      <td>2013.000000</td>\n",
       "      <td>12.000000</td>\n",
       "      <td>1.576778</td>\n",
       "    </tr>\n",
       "  </tbody>\n",
       "</table>\n",
       "</div>"
      ],
      "text/plain": [
       "       International Visitors         Year      Month  \\\n",
       "count               84.000000    84.000000  84.000000   \n",
       "mean            514164.476190  2010.000000   6.500000   \n",
       "std             103142.040168     2.012012   3.472786   \n",
       "min             296193.000000  2007.000000   1.000000   \n",
       "25%             446171.500000  2008.000000   3.750000   \n",
       "50%             531698.000000  2010.000000   6.500000   \n",
       "75%             584491.250000  2012.000000   9.250000   \n",
       "max             709465.000000  2013.000000  12.000000   \n",
       "\n",
       "       EUR/USD average monthly exchange rate  \n",
       "count                              84.000000  \n",
       "mean                                1.367088  \n",
       "std                                 0.080824  \n",
       "min                                 1.221578  \n",
       "25%                                 1.307376  \n",
       "50%                                 1.350519  \n",
       "75%                                 1.426265  \n",
       "max                                 1.576778  "
      ]
     },
     "execution_count": 5,
     "metadata": {},
     "output_type": "execute_result"
    }
   ],
   "source": [
    "visitors.describe()"
   ]
  },
  {
   "cell_type": "code",
   "execution_count": 6,
   "metadata": {
    "collapsed": false
   },
   "outputs": [
    {
     "data": {
      "text/plain": [
       "<matplotlib.axes._subplots.AxesSubplot at 0x1173d3cd0>"
      ]
     },
     "execution_count": 6,
     "metadata": {},
     "output_type": "execute_result"
    },
    {
     "data": {
      "image/png": "[encoded data removed]",
      "text/plain": [
       "<matplotlib.figure.Figure at 0x11728ba10>"
      ]
     },
     "metadata": {},
     "output_type": "display_data"
    }
   ],
   "source": [
    "visitors['International Visitors'].plot(kind='density')"
   ]
  },
  {
   "cell_type": "code",
   "execution_count": 7,
   "metadata": {
    "collapsed": false
   },
   "outputs": [
    {
     "data": {
      "text/plain": [
       "<matplotlib.text.Text at 0x119ec6ed0>"
      ]
     },
     "execution_count": 7,
     "metadata": {},
     "output_type": "execute_result"
    },
    {
     "data": {
      "image/png": "[encoded data removed]",
      "text/plain": [
       "<matplotlib.figure.Figure at 0x11736a9d0>"
      ]
     },
     "metadata": {},
     "output_type": "display_data"
    }
   ],
   "source": [
    "visitors[['International Visitors']].plot(x=visitors.index)\n",
    "plt.ylabel('International Visitors')\n",
    "plt.xlabel('Year and Month')"
   ]
  },
  {
   "cell_type": "markdown",
   "metadata": {},
   "source": [
    "### Exploratory Data Analysis Summary:\n",
    "\n",
    "The probability distribution above shows a slightly left leaning skew. The data looks like it is normally distributed however, so it does not seem like any data transformation is needed.\n",
    "\n",
    "The time series chart above shows the number of international visitors arriving through New York City airports for every month from 2007 to 2013. This time series shows both a postive trend and seasonal patterns in the numbers of visitors. The numbers seem to gradually go up from January and reach their apex around July and then go down until they reach the lowest point in around November."
   ]
  },
  {
   "cell_type": "markdown",
   "metadata": {},
   "source": [
    "### What model to use?\n",
    "Since this is a time series model, the most appropriate techniques to use would be either Autoregressive (AR), Moving average (MA), or the combined ARMA model. \n",
    "\n",
    "Let's explore the data to see what model might make the most sense to use."
   ]
  },
  {
   "cell_type": "code",
   "execution_count": 8,
   "metadata": {
    "collapsed": false
   },
   "outputs": [
    {
     "data": {
      "text/plain": [
       "0.58288754317129399"
      ]
     },
     "execution_count": 8,
     "metadata": {},
     "output_type": "execute_result"
    }
   ],
   "source": [
    "#Using autocorrelation on a monthly basis\n",
    "visitors['International Visitors'].autocorr(lag=1)"
   ]
  },
  {
   "cell_type": "code",
   "execution_count": 9,
   "metadata": {
    "collapsed": false
   },
   "outputs": [
    {
     "data": {
      "text/plain": [
       "0.89829208354545642"
      ]
     },
     "execution_count": 9,
     "metadata": {},
     "output_type": "execute_result"
    }
   ],
   "source": [
    "#Using autocorrelation on a yearly basis\n",
    "visitors['International Visitors'].autocorr(lag=12)"
   ]
  },
  {
   "cell_type": "code",
   "execution_count": 10,
   "metadata": {
    "collapsed": false,
    "scrolled": true
   },
   "outputs": [
    {
     "data": {
      "text/plain": [
       "<matplotlib.axes._subplots.AxesSubplot at 0x119ec64d0>"
      ]
     },
     "execution_count": 10,
     "metadata": {},
     "output_type": "execute_result"
    },
    {
     "data": {
      "image/png": "[encoded data removed]",
      "text/plain": [
       "<matplotlib.figure.Figure at 0x119969f50>"
      ]
     },
     "metadata": {},
     "output_type": "display_data"
    }
   ],
   "source": [
    "from pandas.tools.plotting import autocorrelation_plot\n",
    "x = visitors['International Visitors']\n",
    "autocorrelation_plot(x)"
   ]
  },
  {
   "cell_type": "markdown",
   "metadata": {},
   "source": [
    "The plot above is another way to visualize how a lag of 12 (same month year over year) produces the highest autocorrelation."
   ]
  },
  {
   "cell_type": "markdown",
   "metadata": {},
   "source": [
    "### Autocorrelation:\n",
    "\n",
    "According to the numbers above, there is a significant degree of autocorrelation between the number of visitors for different months and years.\n",
    "\n",
    "Not surprisingly,the same months for different years have higher autocorrelation than just looking at a month to month relationship.\n",
    "\n",
    "The fact that autocorrelation exists, suggests that the **AR model** might work well in this case.\n",
    "\n",
    "The plots below offer a different ways to look at the autocorrelation of this time series."
   ]
  },
  {
   "cell_type": "code",
   "execution_count": 11,
   "metadata": {
    "collapsed": false
   },
   "outputs": [
    {
     "data": {
      "image/png": "[encoded data removed]",
      "text/plain": [
       "<matplotlib.figure.Figure at 0x11a4be1d0>"
      ]
     },
     "execution_count": 11,
     "metadata": {},
     "output_type": "execute_result"
    },
    {
     "data": {
      "image/png": "[encoded data removed]",
      "text/plain": [
       "<matplotlib.figure.Figure at 0x11a4be1d0>"
      ]
     },
     "metadata": {},
     "output_type": "display_data"
    }
   ],
   "source": [
    "from statsmodels.graphics.tsaplots import plot_acf\n",
    "\n",
    "plot_acf(visitors['International Visitors'],lags=12)"
   ]
  },
  {
   "cell_type": "code",
   "execution_count": 12,
   "metadata": {
    "collapsed": false,
    "scrolled": true
   },
   "outputs": [
    {
     "data": {
      "image/png": "[encoded data removed]",
      "text/plain": [
       "<matplotlib.figure.Figure at 0x11a865610>"
      ]
     },
     "execution_count": 12,
     "metadata": {},
     "output_type": "execute_result"
    },
    {
     "data": {
      "image/png": "[encoded data removed]",
      "text/plain": [
       "<matplotlib.figure.Figure at 0x11a865610>"
      ]
     },
     "metadata": {},
     "output_type": "display_data"
    }
   ],
   "source": [
    "from statsmodels.graphics.tsaplots import plot_pacf\n",
    "plot_pacf(visitors['International Visitors'],lags=12)"
   ]
  },
  {
   "cell_type": "markdown",
   "metadata": {},
   "source": [
    "### What to do about the trend?\n",
    "\n",
    "Since there is an upward trend in this time series, we have non stationarity. In order to create a strong model we should ideally have autocorrelation (which we have) and stationarity. \n",
    "\n",
    "We will therefore have to do some transformation regarding the trend through either detrending or differencing.This will be done later on, because in this notebook we will first look at models that use the non stationary data in order to compare the performance with models that use the stationary data."
   ]
  },
  {
   "cell_type": "markdown",
   "metadata": {},
   "source": [
    "### What about the MA model?\n",
    "\n",
    "MA models tend to be beneficial when the time series data has abrupt changes. Let's see from the data we have if there are such abrupt changes."
   ]
  },
  {
   "cell_type": "code",
   "execution_count": 13,
   "metadata": {
    "collapsed": false
   },
   "outputs": [
    {
     "data": {
      "text/plain": [
       "<matplotlib.text.Text at 0x11aa62c50>"
      ]
     },
     "execution_count": 13,
     "metadata": {},
     "output_type": "execute_result"
    },
    {
     "data": {
      "image/png": "[encoded data removed]",
      "text/plain": [
       "<matplotlib.figure.Figure at 0x11aa74d90>"
      ]
     },
     "metadata": {},
     "output_type": "display_data"
    }
   ],
   "source": [
    "visitors[['International Visitors']].plot(x=visitors.index)\n",
    "plt.ylabel('International Visitors')\n",
    "plt.xlabel('Year and Month')\n"
   ]
  },
  {
   "cell_type": "markdown",
   "metadata": {},
   "source": [
    "There does not seem to be abrupt changes in the number of visitors, but rather a pretty clear seasonal pattern occuring every year with a general upward trend. This graph does not suggest that using an MA model in necessary. However, this model could be used to see how it performs compared to the AR model."
   ]
  },
  {
   "cell_type": "code",
   "execution_count": 14,
   "metadata": {
    "collapsed": false
   },
   "outputs": [
    {
     "data": {
      "text/plain": [
       "Year\n",
       "2007    449702\n",
       "2008    507478\n",
       "2009    474981\n",
       "2010    499372\n",
       "2011    519594\n",
       "2012    552456\n",
       "2013    595565\n",
       "Name: International Visitors, dtype: int64"
      ]
     },
     "execution_count": 14,
     "metadata": {},
     "output_type": "execute_result"
    }
   ],
   "source": [
    "# The code below is another way to see if there is a year over year trend in terms of the number of visitors. \n",
    "# The fact that the average annual number of visitors is increasing from 2007 to 2013 shows that there is an upward trend.\n",
    "visitors['International Visitors'].groupby(by=visitors['Year']).mean()"
   ]
  },
  {
   "cell_type": "code",
   "execution_count": 15,
   "metadata": {
    "collapsed": false,
    "scrolled": true
   },
   "outputs": [
    {
     "name": "stderr",
     "output_type": "stream",
     "text": [
      "/Users/mikaelroussel/anaconda/lib/python2.7/site-packages/ipykernel/__main__.py:1: FutureWarning: pd.rolling_mean is deprecated for DataFrame and will be removed in a future version, replace with \n",
      "\tDataFrame.rolling(window=2,center=False).mean()\n",
      "  if __name__ == '__main__':\n"
     ]
    },
    {
     "data": {
      "text/plain": [
       "<matplotlib.axes._subplots.AxesSubplot at 0x11a9c7490>"
      ]
     },
     "execution_count": 15,
     "metadata": {},
     "output_type": "execute_result"
    },
    {
     "data": {
      "image/png": "[encoded data removed]",
      "text/plain": [
       "<matplotlib.figure.Figure at 0x11a9dd610>"
      ]
     },
     "metadata": {},
     "output_type": "display_data"
    }
   ],
   "source": [
    "pd.rolling_mean(visitors[['International Visitors']], 2).plot(x=visitors.index)"
   ]
  },
  {
   "cell_type": "markdown",
   "metadata": {},
   "source": [
    "The plot above uses rolling mean and shows a smoother version of the seasonal pattern."
   ]
  },
  {
   "cell_type": "markdown",
   "metadata": {},
   "source": [
    "### Setting the training and test sets"
   ]
  },
  {
   "cell_type": "code",
   "execution_count": 16,
   "metadata": {
    "collapsed": false
   },
   "outputs": [],
   "source": [
    "n = len(visitors[['International Visitors']])\n",
    "\n",
    "train = visitors['International Visitors'][:int(.75*n)]\n",
    "test = visitors['International Visitors'][int(.75*n):]"
   ]
  },
  {
   "cell_type": "code",
   "execution_count": 17,
   "metadata": {
    "collapsed": false
   },
   "outputs": [
    {
     "data": {
      "text/plain": [
       "Year and Month\n",
       "2007-01-01    296193.0\n",
       "2007-02-01    311727.0\n",
       "2007-03-01    418833.0\n",
       "2007-04-01    451262.0\n",
       "2007-05-01    437930.0\n",
       "Name: International Visitors, dtype: float64"
      ]
     },
     "execution_count": 17,
     "metadata": {},
     "output_type": "execute_result"
    }
   ],
   "source": [
    "train=train.map(lambda x: x+0.0)\n",
    "train.head()"
   ]
  },
  {
   "cell_type": "code",
   "execution_count": 18,
   "metadata": {
    "collapsed": false
   },
   "outputs": [
    {
     "data": {
      "text/plain": [
       "Year and Month\n",
       "2012-04-01    595079.0\n",
       "2012-05-01    588703.0\n",
       "2012-06-01    612899.0\n",
       "2012-07-01    691125.0\n",
       "2012-08-01    658443.0\n",
       "Name: International Visitors, dtype: float64"
      ]
     },
     "execution_count": 18,
     "metadata": {},
     "output_type": "execute_result"
    }
   ],
   "source": [
    "test=test.map(lambda x: x+0.0)\n",
    "test.head()"
   ]
  },
  {
   "cell_type": "markdown",
   "metadata": {
    "collapsed": true
   },
   "source": [
    "### Using an AR model:\n",
    "\n",
    "In order to see what parameter would work best for the AR model I tried using different parameters in terms of the previous time points to include. The code below shows how this was done. There is a conclusion below about the finding."
   ]
  },
  {
   "cell_type": "code",
   "execution_count": 19,
   "metadata": {
    "collapsed": true
   },
   "outputs": [],
   "source": [
    "from sklearn.metrics import mean_absolute_error\n",
    "import statsmodels.api as sm"
   ]
  },
  {
   "cell_type": "markdown",
   "metadata": {},
   "source": [
    "#### Comparing model performance with different lags"
   ]
  },
  {
   "cell_type": "code",
   "execution_count": 20,
   "metadata": {
    "collapsed": false,
    "scrolled": true
   },
   "outputs": [
    {
     "name": "stderr",
     "output_type": "stream",
     "text": [
      "/Users/mikaelroussel/anaconda/lib/python2.7/site-packages/statsmodels/base/data.py:503: FutureWarning: TimeSeries is deprecated. Please use Series\n",
      "  return TimeSeries(result, index=self.predict_dates)\n"
     ]
    },
    {
     "name": "stdout",
     "output_type": "stream",
     "text": [
      "('Mean absolute error: ', 131058.02327315162)\n",
      "('Mean absolute error: ', 132249.34421454242)\n",
      "('Mean absolute error: ', 129331.04454904173)\n",
      "('Mean absolute error: ', 126598.33053736686)\n",
      "('Mean absolute error: ', 122944.98538098045)\n",
      "('Mean absolute error: ', 119016.95052941551)\n",
      "('Mean absolute error: ', 119091.73013183098)\n",
      "('Mean absolute error: ', 118683.80686000748)\n",
      "('Mean absolute error: ', 117877.71243524396)\n",
      "('Mean absolute error: ', 114965.1221819214)\n",
      "('Mean absolute error: ', 110664.68448150756)\n"
     ]
    },
    {
     "name": "stderr",
     "output_type": "stream",
     "text": [
      "/Users/mikaelroussel/anaconda/lib/python2.7/site-packages/statsmodels/base/model.py:466: ConvergenceWarning: Maximum Likelihood optimization failed to converge. Check mle_retvals\n",
      "  \"Check mle_retvals\", ConvergenceWarning)\n"
     ]
    }
   ],
   "source": [
    "for n in range(1,12):\n",
    "    model = sm.tsa.ARMA(train, (n,0)).fit()\n",
    "    predictions = model.predict(\n",
    "    '2012-04-01',\n",
    "    '2013-12-01 ',\n",
    "    dynamic=True, \n",
    ")\n",
    "    print(\"Mean absolute error: \", mean_absolute_error(test, predictions))\n"
   ]
  },
  {
   "cell_type": "code",
   "execution_count": 21,
   "metadata": {
    "collapsed": false
   },
   "outputs": [
    {
     "name": "stdout",
     "output_type": "stream",
     "text": [
      "                                ARMA Model Results                                \n",
      "==================================================================================\n",
      "Dep. Variable:     International Visitors   No. Observations:                   63\n",
      "Model:                         ARMA(1, 0)   Log Likelihood                -800.877\n",
      "Method:                           css-mle   S.D. of innovations          80124.261\n",
      "Date:                    Fri, 02 Dec 2016   AIC                           1607.754\n",
      "Time:                            12:20:32   BIC                           1614.184\n",
      "Sample:                        01-01-2007   HQIC                          1610.283\n",
      "                             - 03-01-2012                                         \n",
      "================================================================================================\n",
      "                                   coef    std err          z      P>|z|      [95.0% Conf. Int.]\n",
      "------------------------------------------------------------------------------------------------\n",
      "const                         4.867e+05   1.91e+04     25.508      0.000      4.49e+05  5.24e+05\n",
      "ar.L1.International Visitors     0.4784      0.114      4.200      0.000         0.255     0.702\n",
      "                                    Roots                                    \n",
      "=============================================================================\n",
      "                 Real           Imaginary           Modulus         Frequency\n",
      "-----------------------------------------------------------------------------\n",
      "AR.1            2.0904           +0.0000j            2.0904            0.0000\n",
      "-----------------------------------------------------------------------------\n",
      "                                ARMA Model Results                                \n",
      "==================================================================================\n",
      "Dep. Variable:     International Visitors   No. Observations:                   63\n",
      "Model:                         ARMA(2, 0)   Log Likelihood                -800.371\n",
      "Method:                           css-mle   S.D. of innovations          79454.735\n",
      "Date:                    Fri, 02 Dec 2016   AIC                           1608.741\n",
      "Time:                            12:20:32   BIC                           1617.314\n",
      "Sample:                        01-01-2007   HQIC                          1612.113\n",
      "                             - 03-01-2012                                         \n",
      "================================================================================================\n",
      "                                   coef    std err          z      P>|z|      [95.0% Conf. Int.]\n",
      "------------------------------------------------------------------------------------------------\n",
      "const                         4.867e+05   2.19e+04     22.185      0.000      4.44e+05   5.3e+05\n",
      "ar.L1.International Visitors     0.4209      0.126      3.334      0.001         0.173     0.668\n",
      "ar.L2.International Visitors     0.1327      0.131      1.010      0.316        -0.125     0.390\n",
      "                                    Roots                                    \n",
      "=============================================================================\n",
      "                 Real           Imaginary           Modulus         Frequency\n",
      "-----------------------------------------------------------------------------\n",
      "AR.1            1.5842           +0.0000j            1.5842            0.0000\n",
      "AR.2           -4.7550           +0.0000j            4.7550            0.5000\n",
      "-----------------------------------------------------------------------------\n",
      "                                ARMA Model Results                                \n",
      "==================================================================================\n",
      "Dep. Variable:     International Visitors   No. Observations:                   63\n",
      "Model:                         ARMA(3, 0)   Log Likelihood                -799.521\n",
      "Method:                           css-mle   S.D. of innovations          78340.119\n",
      "Date:                    Fri, 02 Dec 2016   AIC                           1609.042\n",
      "Time:                            12:20:32   BIC                           1619.758\n",
      "Sample:                        01-01-2007   HQIC                          1613.257\n",
      "                             - 03-01-2012                                         \n",
      "================================================================================================\n",
      "                                   coef    std err          z      P>|z|      [95.0% Conf. Int.]\n",
      "------------------------------------------------------------------------------------------------\n",
      "const                         4.867e+05   1.85e+04     26.349      0.000      4.51e+05  5.23e+05\n",
      "ar.L1.International Visitors     0.4461      0.126      3.550      0.001         0.200     0.692\n",
      "ar.L2.International Visitors     0.1931      0.137      1.408      0.165        -0.076     0.462\n",
      "ar.L3.International Visitors    -0.1718      0.131     -1.310      0.195        -0.429     0.085\n",
      "                                    Roots                                    \n",
      "=============================================================================\n",
      "                 Real           Imaginary           Modulus         Frequency\n",
      "-----------------------------------------------------------------------------\n",
      "AR.1           -1.8869           -0.0000j            1.8869           -0.5000\n",
      "AR.2            1.5054           -0.9046j            1.7563           -0.0861\n",
      "AR.3            1.5054           +0.9046j            1.7563            0.0861\n",
      "-----------------------------------------------------------------------------\n",
      "                                ARMA Model Results                                \n",
      "==================================================================================\n",
      "Dep. Variable:     International Visitors   No. Observations:                   63\n",
      "Model:                         ARMA(4, 0)   Log Likelihood                -797.172\n",
      "Method:                           css-mle   S.D. of innovations          75258.236\n",
      "Date:                    Fri, 02 Dec 2016   AIC                           1606.343\n",
      "Time:                            12:20:32   BIC                           1619.202\n",
      "Sample:                        01-01-2007   HQIC                          1611.401\n",
      "                             - 03-01-2012                                         \n",
      "================================================================================================\n",
      "                                   coef    std err          z      P>|z|      [95.0% Conf. Int.]\n",
      "------------------------------------------------------------------------------------------------\n",
      "const                         4.877e+05    1.4e+04     34.849      0.000       4.6e+05  5.15e+05\n",
      "ar.L1.International Visitors     0.3907      0.123      3.183      0.002         0.150     0.631\n",
      "ar.L2.International Visitors     0.2632      0.136      1.929      0.059        -0.004     0.531\n",
      "ar.L3.International Visitors    -0.0561      0.136     -0.413      0.681        -0.323     0.210\n",
      "ar.L4.International Visitors    -0.2872      0.129     -2.225      0.030        -0.540    -0.034\n",
      "                                    Roots                                    \n",
      "=============================================================================\n",
      "                 Real           Imaginary           Modulus         Frequency\n",
      "-----------------------------------------------------------------------------\n",
      "AR.1            1.0400           -0.6546j            1.2289           -0.0894\n",
      "AR.2            1.0400           +0.6546j            1.2289            0.0894\n",
      "AR.3           -1.1377           -1.0058j            1.5186           -0.3848\n",
      "AR.4           -1.1377           +1.0058j            1.5186            0.3848\n",
      "-----------------------------------------------------------------------------\n",
      "                                ARMA Model Results                                \n",
      "==================================================================================\n",
      "Dep. Variable:     International Visitors   No. Observations:                   63\n",
      "Model:                         ARMA(5, 0)   Log Likelihood                -796.179\n",
      "Method:                           css-mle   S.D. of innovations          73972.190\n",
      "Date:                    Fri, 02 Dec 2016   AIC                           1606.358\n",
      "Time:                            12:20:33   BIC                           1621.360\n",
      "Sample:                        01-01-2007   HQIC                          1612.258\n",
      "                             - 03-01-2012                                         \n",
      "================================================================================================\n",
      "                                   coef    std err          z      P>|z|      [95.0% Conf. Int.]\n",
      "------------------------------------------------------------------------------------------------\n",
      "const                         4.888e+05   1.16e+04     42.246      0.000      4.66e+05  5.11e+05\n",
      "ar.L1.International Visitors     0.3367      0.126      2.664      0.010         0.089     0.584\n",
      "ar.L2.International Visitors     0.2429      0.135      1.803      0.077        -0.021     0.507\n",
      "ar.L3.International Visitors    -0.0018      0.139     -0.013      0.990        -0.274     0.270\n",
      "ar.L4.International Visitors    -0.2178      0.136     -1.602      0.115        -0.484     0.049\n",
      "ar.L5.International Visitors    -0.1897      0.133     -1.425      0.160        -0.451     0.071\n",
      "                                    Roots                                    \n",
      "=============================================================================\n",
      "                 Real           Imaginary           Modulus         Frequency\n",
      "-----------------------------------------------------------------------------\n",
      "AR.1            0.9782           -0.5803j            1.1374           -0.0852\n",
      "AR.2            0.9782           +0.5803j            1.1374            0.0852\n",
      "AR.3           -0.7038           -1.3805j            1.5496           -0.3250\n",
      "AR.4           -0.7038           +1.3805j            1.5496            0.3250\n",
      "AR.5           -1.6968           -0.0000j            1.6968           -0.5000\n",
      "-----------------------------------------------------------------------------\n",
      "                                ARMA Model Results                                \n",
      "==================================================================================\n",
      "Dep. Variable:     International Visitors   No. Observations:                   63\n",
      "Model:                         ARMA(6, 0)   Log Likelihood                -792.912\n",
      "Method:                           css-mle   S.D. of innovations          69804.430\n",
      "Date:                    Fri, 02 Dec 2016   AIC                           1601.823\n",
      "Time:                            12:20:33   BIC                           1618.968\n",
      "Sample:                        01-01-2007   HQIC                          1608.566\n",
      "                             - 03-01-2012                                         \n",
      "================================================================================================\n",
      "                                   coef    std err          z      P>|z|      [95.0% Conf. Int.]\n",
      "------------------------------------------------------------------------------------------------\n",
      "const                         4.901e+05   8020.064     61.114      0.000      4.74e+05  5.06e+05\n",
      "ar.L1.International Visitors     0.2551      0.123      2.076      0.042         0.014     0.496\n",
      "ar.L2.International Visitors     0.1697      0.129      1.317      0.193        -0.083     0.422\n",
      "ar.L3.International Visitors    -0.0066      0.133     -0.050      0.960        -0.267     0.254\n",
      "ar.L4.International Visitors    -0.1330      0.131     -1.015      0.314        -0.390     0.124\n",
      "ar.L5.International Visitors    -0.0883      0.131     -0.675      0.503        -0.345     0.168\n",
      "ar.L6.International Visitors    -0.3438      0.129     -2.665      0.010        -0.597    -0.091\n",
      "                                    Roots                                    \n",
      "=============================================================================\n",
      "                 Real           Imaginary           Modulus         Frequency\n",
      "-----------------------------------------------------------------------------\n",
      "AR.1            0.9310           -0.5122j            1.0626           -0.0801\n",
      "AR.2            0.9310           +0.5122j            1.0626            0.0801\n",
      "AR.3           -1.0622           -0.6263j            1.2331           -0.4152\n",
      "AR.4           -1.0622           +0.6263j            1.2331            0.4152\n",
      "AR.5            0.0027           -1.3017j            1.3017           -0.2497\n",
      "AR.6            0.0027           +1.3017j            1.3017            0.2497\n",
      "-----------------------------------------------------------------------------\n",
      "                                ARMA Model Results                                \n",
      "==================================================================================\n",
      "Dep. Variable:     International Visitors   No. Observations:                   63\n",
      "Model:                         ARMA(7, 0)   Log Likelihood                -792.838\n",
      "Method:                           css-mle   S.D. of innovations          69702.212\n",
      "Date:                    Fri, 02 Dec 2016   AIC                           1603.675\n",
      "Time:                            12:20:34   BIC                           1622.964\n",
      "Sample:                        01-01-2007   HQIC                          1611.262\n",
      "                             - 03-01-2012                                         \n",
      "================================================================================================\n",
      "                                   coef    std err          z      P>|z|      [95.0% Conf. Int.]\n",
      "------------------------------------------------------------------------------------------------\n",
      "const                         4.906e+05   7582.243     64.701      0.000      4.76e+05  5.05e+05\n",
      "ar.L1.International Visitors     0.2363      0.132      1.786      0.080        -0.023     0.495\n",
      "ar.L2.International Visitors     0.1623      0.130      1.247      0.218        -0.093     0.417\n",
      "ar.L3.International Visitors    -0.0128      0.134     -0.096      0.924        -0.275     0.249\n",
      "ar.L4.International Visitors    -0.1341      0.131     -1.025      0.310        -0.391     0.122\n",
      "ar.L5.International Visitors    -0.0792      0.133     -0.595      0.554        -0.340     0.182\n",
      "ar.L6.International Visitors    -0.3331      0.132     -2.524      0.015        -0.592    -0.074\n",
      "ar.L7.International Visitors    -0.0530      0.138     -0.384      0.703        -0.324     0.218\n",
      "                                    Roots                                    \n",
      "=============================================================================\n",
      "                 Real           Imaginary           Modulus         Frequency\n",
      "-----------------------------------------------------------------------------\n",
      "AR.1            0.9278           -0.5056j            1.0566           -0.0794\n",
      "AR.2            0.9278           +0.5056j            1.0566            0.0794\n",
      "AR.3            0.0624           -1.3066j            1.3081           -0.2424\n",
      "AR.4            0.0624           +1.3066j            1.3081            0.2424\n",
      "AR.5           -1.0798           -0.6720j            1.2718           -0.4114\n",
      "AR.6           -1.0798           +0.6720j            1.2718            0.4114\n",
      "AR.7           -6.1098           -0.0000j            6.1098           -0.5000\n",
      "-----------------------------------------------------------------------------\n",
      "                                ARMA Model Results                                \n",
      "==================================================================================\n",
      "Dep. Variable:     International Visitors   No. Observations:                   63\n",
      "Model:                         ARMA(8, 0)   Log Likelihood                -792.762\n",
      "Method:                           css-mle   S.D. of innovations          69612.546\n",
      "Date:                    Fri, 02 Dec 2016   AIC                           1605.523\n",
      "Time:                            12:20:35   BIC                           1626.955\n",
      "Sample:                        01-01-2007   HQIC                          1613.953\n",
      "                             - 03-01-2012                                         \n",
      "================================================================================================\n",
      "                                   coef    std err          z      P>|z|      [95.0% Conf. Int.]\n",
      "------------------------------------------------------------------------------------------------\n",
      "const                         4.905e+05   8059.889     60.862      0.000      4.75e+05  5.06e+05\n",
      "ar.L1.International Visitors     0.2416      0.133      1.821      0.074        -0.018     0.502\n",
      "ar.L2.International Visitors     0.1822      0.140      1.304      0.198        -0.092     0.456\n",
      "ar.L3.International Visitors    -0.0067      0.134     -0.050      0.960        -0.270     0.257\n",
      "ar.L4.International Visitors    -0.1285      0.131     -0.982      0.331        -0.385     0.128\n",
      "ar.L5.International Visitors    -0.0773      0.133     -0.581      0.564        -0.338     0.183\n",
      "ar.L6.International Visitors    -0.3411      0.133     -2.560      0.013        -0.602    -0.080\n",
      "ar.L7.International Visitors    -0.0623      0.140     -0.446      0.658        -0.336     0.212\n",
      "ar.L8.International Visitors     0.0540      0.139      0.389      0.699        -0.218     0.326\n",
      "                                    Roots                                    \n",
      "=============================================================================\n",
      "                 Real           Imaginary           Modulus         Frequency\n",
      "-----------------------------------------------------------------------------\n",
      "AR.1            0.9272           -0.5130j            1.0596           -0.0804\n",
      "AR.2            0.9272           +0.5130j            1.0596            0.0804\n",
      "AR.3            0.0549           -1.2459j            1.2471           -0.2430\n",
      "AR.4            0.0549           +1.2459j            1.2471            0.2430\n",
      "AR.5           -1.0358           -0.7305j            1.2675           -0.4022\n",
      "AR.6           -1.0358           +0.7305j            1.2675            0.4022\n",
      "AR.7           -2.0148           -0.0000j            2.0148           -0.5000\n",
      "AR.8            3.2751           -0.0000j            3.2751           -0.0000\n",
      "-----------------------------------------------------------------------------\n",
      "                                ARMA Model Results                                \n",
      "==================================================================================\n",
      "Dep. Variable:     International Visitors   No. Observations:                   63\n",
      "Model:                         ARMA(9, 0)   Log Likelihood                -792.726\n",
      "Method:                           css-mle   S.D. of innovations          69579.288\n",
      "Date:                    Fri, 02 Dec 2016   AIC                           1607.452\n",
      "Time:                            12:20:37   BIC                           1631.027\n",
      "Sample:                        01-01-2007   HQIC                          1616.724\n",
      "                             - 03-01-2012                                         \n",
      "================================================================================================\n",
      "                                   coef    std err          z      P>|z|      [95.0% Conf. Int.]\n",
      "------------------------------------------------------------------------------------------------\n",
      "const                         4.902e+05   8517.324     57.548      0.000      4.73e+05  5.07e+05\n",
      "ar.L1.International Visitors     0.2429      0.133      1.831      0.073        -0.017     0.503\n",
      "ar.L2.International Visitors     0.1877      0.141      1.331      0.189        -0.089     0.464\n",
      "ar.L3.International Visitors     0.0065      0.143      0.046      0.964        -0.274     0.287\n",
      "ar.L4.International Visitors    -0.1236      0.132     -0.936      0.354        -0.383     0.135\n",
      "ar.L5.International Visitors    -0.0736      0.134     -0.550      0.585        -0.336     0.189\n",
      "ar.L6.International Visitors    -0.3383      0.134     -2.531      0.014        -0.600    -0.076\n",
      "ar.L7.International Visitors    -0.0673      0.141     -0.477      0.635        -0.344     0.209\n",
      "ar.L8.International Visitors     0.0491      0.140      0.350      0.728        -0.226     0.324\n",
      "ar.L9.International Visitors     0.0377      0.142      0.265      0.792        -0.241     0.316\n",
      "                                    Roots                                    \n",
      "=============================================================================\n",
      "                 Real           Imaginary           Modulus         Frequency\n",
      "-----------------------------------------------------------------------------\n",
      "AR.1            0.9237           -0.5175j            1.0588           -0.0813\n",
      "AR.2            0.9237           +0.5175j            1.0588            0.0813\n",
      "AR.3            0.0922           -1.2330j            1.2364           -0.2381\n",
      "AR.4            0.0922           +1.2330j            1.2364            0.2381\n",
      "AR.5            2.0590           -0.0000j            2.0590           -0.0000\n",
      "AR.6           -1.1167           -0.7097j            1.3231           -0.4099\n",
      "AR.7           -1.1167           +0.7097j            1.3231            0.4099\n",
      "AR.8           -1.5795           -1.3415j            2.0723           -0.3879\n",
      "AR.9           -1.5795           +1.3415j            2.0723            0.3879\n",
      "-----------------------------------------------------------------------------\n",
      "                                ARMA Model Results                                \n",
      "==================================================================================\n",
      "Dep. Variable:     International Visitors   No. Observations:                   63\n",
      "Model:                        ARMA(10, 0)   Log Likelihood                -792.557\n",
      "Method:                           css-mle   S.D. of innovations          69371.607\n",
      "Date:                    Fri, 02 Dec 2016   AIC                           1609.114\n",
      "Time:                            12:20:40   BIC                           1634.831\n",
      "Sample:                        01-01-2007   HQIC                          1619.228\n",
      "                             - 03-01-2012                                         \n",
      "=================================================================================================\n",
      "                                    coef    std err          z      P>|z|      [95.0% Conf. Int.]\n",
      "-------------------------------------------------------------------------------------------------\n",
      "const                          4.896e+05   9571.982     51.151      0.000      4.71e+05  5.08e+05\n",
      "ar.L1.International Visitors      0.2423      0.132      1.835      0.072        -0.016     0.501\n",
      "ar.L2.International Visitors      0.1897      0.140      1.352      0.182        -0.085     0.465\n",
      "ar.L3.International Visitors      0.0170      0.144      0.118      0.906        -0.264     0.298\n",
      "ar.L4.International Visitors     -0.0933      0.142     -0.659      0.513        -0.371     0.184\n",
      "ar.L5.International Visitors     -0.0647      0.133     -0.486      0.629        -0.326     0.196\n",
      "ar.L6.International Visitors     -0.3295      0.134     -2.454      0.018        -0.593    -0.066\n",
      "ar.L7.International Visitors     -0.0616      0.141     -0.437      0.664        -0.338     0.215\n",
      "ar.L8.International Visitors      0.0375      0.141      0.266      0.791        -0.239     0.314\n",
      "ar.L9.International Visitors      0.0279      0.142      0.196      0.846        -0.251     0.307\n",
      "ar.L10.International Visitors     0.0826      0.141      0.585      0.561        -0.194     0.359\n",
      "                                    Roots                                     \n",
      "==============================================================================\n",
      "                  Real           Imaginary           Modulus         Frequency\n",
      "------------------------------------------------------------------------------\n",
      "AR.1             0.9120           -0.5202j            1.0500           -0.0825\n",
      "AR.2             0.9120           +0.5202j            1.0500            0.0825\n",
      "AR.3             1.4501           -0.0000j            1.4501           -0.0000\n",
      "AR.4            -0.9867           -0.6738j            1.1948           -0.4046\n",
      "AR.5            -0.9867           +0.6738j            1.1948            0.4046\n",
      "AR.6            -1.4426           -0.0000j            1.4426           -0.5000\n",
      "AR.7             0.2209           -1.2748j            1.2939           -0.2227\n",
      "AR.8             0.2209           +1.2748j            1.2939            0.2227\n",
      "AR.9            -0.3188           -1.4473j            1.4820           -0.2845\n",
      "AR.10           -0.3188           +1.4473j            1.4820            0.2845\n",
      "------------------------------------------------------------------------------\n"
     ]
    },
    {
     "name": "stderr",
     "output_type": "stream",
     "text": [
      "/Users/mikaelroussel/anaconda/lib/python2.7/site-packages/statsmodels/base/model.py:466: ConvergenceWarning: Maximum Likelihood optimization failed to converge. Check mle_retvals\n",
      "  \"Check mle_retvals\", ConvergenceWarning)\n"
     ]
    },
    {
     "name": "stdout",
     "output_type": "stream",
     "text": [
      "                                ARMA Model Results                                \n",
      "==================================================================================\n",
      "Dep. Variable:     International Visitors   No. Observations:                   63\n",
      "Model:                        ARMA(11, 0)   Log Likelihood                -792.071\n",
      "Method:                           css-mle   S.D. of innovations          68733.861\n",
      "Date:                    Fri, 02 Dec 2016   AIC                           1610.142\n",
      "Time:                            12:20:44   BIC                           1638.003\n",
      "Sample:                        01-01-2007   HQIC                          1621.100\n",
      "                             - 03-01-2012                                         \n",
      "=================================================================================================\n",
      "                                    coef    std err          z      P>|z|      [95.0% Conf. Int.]\n",
      "-------------------------------------------------------------------------------------------------\n",
      "const                          4.896e+05   1.16e+04     42.300      0.000      4.67e+05  5.12e+05\n",
      "ar.L1.International Visitors      0.2354      0.130      1.805      0.077        -0.020     0.491\n",
      "ar.L2.International Visitors      0.1916      0.138      1.389      0.171        -0.079     0.462\n",
      "ar.L3.International Visitors      0.0196      0.142      0.138      0.890        -0.258     0.297\n",
      "ar.L4.International Visitors     -0.0763      0.141     -0.542      0.590        -0.353     0.200\n",
      "ar.L5.International Visitors     -0.0158      0.141     -0.112      0.911        -0.292     0.261\n",
      "ar.L6.International Visitors     -0.3139      0.134     -2.337      0.023        -0.577    -0.051\n",
      "ar.L7.International Visitors     -0.0504      0.140     -0.361      0.720        -0.324     0.223\n",
      "ar.L8.International Visitors      0.0464      0.139      0.333      0.740        -0.227     0.319\n",
      "ar.L9.International Visitors      0.0105      0.141      0.075      0.941        -0.267     0.288\n",
      "ar.L10.International Visitors     0.0652      0.140      0.465      0.644        -0.210     0.340\n",
      "ar.L11.International Visitors     0.1378      0.139      0.992      0.326        -0.134     0.410\n",
      "                                    Roots                                     \n",
      "==============================================================================\n",
      "                  Real           Imaginary           Modulus         Frequency\n",
      "------------------------------------------------------------------------------\n",
      "AR.1             0.8987           -0.5146j            1.0356           -0.0828\n",
      "AR.2             0.8987           +0.5146j            1.0356            0.0828\n",
      "AR.3             1.2046           -0.0000j            1.2046           -0.0000\n",
      "AR.4             0.4634           -1.1884j            1.2755           -0.1908\n",
      "AR.5             0.4634           +1.1884j            1.2755            0.1908\n",
      "AR.6            -0.1057           -1.1970j            1.2016           -0.2640\n",
      "AR.7            -0.1057           +1.1970j            1.2016            0.2640\n",
      "AR.8            -0.8959           -0.8191j            1.2139           -0.3821\n",
      "AR.9            -0.8959           +0.8191j            1.2139            0.3821\n",
      "AR.10           -1.1995           -0.4291j            1.2740           -0.4453\n",
      "AR.11           -1.1995           +0.4291j            1.2740            0.4453\n",
      "------------------------------------------------------------------------------\n"
     ]
    }
   ],
   "source": [
    "for n in range(1,12):\n",
    "    model = sm.tsa.ARMA(train, (n,0)).fit()\n",
    "    print model.summary()"
   ]
  },
  {
   "cell_type": "markdown",
   "metadata": {},
   "source": [
    "#### Conclusion:\n",
    "\n",
    "Looking at the performances of the models using lags between 1 and 11, the models that perform the best when looking at the statistical significance of the different lags included and the Mean absolute error(MAE) are the ones that use a lag of 1 and 6. The AR(1) model has a MAE of 131058.02 and a p-value of 0.000. For AR(6), its MAE of 119016.95 is lower while 2 of its 6 time lags are statistically significant."
   ]
  },
  {
   "cell_type": "markdown",
   "metadata": {},
   "source": [
    "### Using an MA model:\n",
    "\n",
    "As with the AR model, this model has been run using different lags between 1 and 11, so we can compare what lag works best.\n",
    "\n"
   ]
  },
  {
   "cell_type": "code",
   "execution_count": 22,
   "metadata": {
    "collapsed": false
   },
   "outputs": [
    {
     "name": "stdout",
     "output_type": "stream",
     "text": [
      "('Mean absolute error: ', 131367.48929748996)\n",
      "('Mean absolute error: ', 130193.87599587829)\n",
      "('Mean absolute error: ', 131190.11601230857)\n",
      "('Mean absolute error: ', 131090.59463278655)\n",
      "('Mean absolute error: ', 134514.60217499311)\n",
      "('Mean absolute error: ', 130314.98391730919)\n"
     ]
    },
    {
     "name": "stderr",
     "output_type": "stream",
     "text": [
      "/Users/mikaelroussel/anaconda/lib/python2.7/site-packages/statsmodels/base/model.py:466: ConvergenceWarning: Maximum Likelihood optimization failed to converge. Check mle_retvals\n",
      "  \"Check mle_retvals\", ConvergenceWarning)\n"
     ]
    },
    {
     "name": "stdout",
     "output_type": "stream",
     "text": [
      "('Mean absolute error: ', 135795.66013287558)\n"
     ]
    },
    {
     "name": "stderr",
     "output_type": "stream",
     "text": [
      "/Users/mikaelroussel/anaconda/lib/python2.7/site-packages/statsmodels/base/model.py:466: ConvergenceWarning: Maximum Likelihood optimization failed to converge. Check mle_retvals\n",
      "  \"Check mle_retvals\", ConvergenceWarning)\n"
     ]
    },
    {
     "name": "stdout",
     "output_type": "stream",
     "text": [
      "('Mean absolute error: ', 132630.35070962954)\n"
     ]
    },
    {
     "name": "stderr",
     "output_type": "stream",
     "text": [
      "/Users/mikaelroussel/anaconda/lib/python2.7/site-packages/statsmodels/base/model.py:466: ConvergenceWarning: Maximum Likelihood optimization failed to converge. Check mle_retvals\n",
      "  \"Check mle_retvals\", ConvergenceWarning)\n"
     ]
    },
    {
     "name": "stdout",
     "output_type": "stream",
     "text": [
      "('Mean absolute error: ', 133730.88079813891)\n"
     ]
    },
    {
     "name": "stderr",
     "output_type": "stream",
     "text": [
      "/Users/mikaelroussel/anaconda/lib/python2.7/site-packages/statsmodels/base/model.py:466: ConvergenceWarning: Maximum Likelihood optimization failed to converge. Check mle_retvals\n",
      "  \"Check mle_retvals\", ConvergenceWarning)\n"
     ]
    },
    {
     "name": "stdout",
     "output_type": "stream",
     "text": [
      "('Mean absolute error: ', 143004.28479094995)\n",
      "('Mean absolute error: ', 127045.22247084968)\n"
     ]
    },
    {
     "name": "stderr",
     "output_type": "stream",
     "text": [
      "/Users/mikaelroussel/anaconda/lib/python2.7/site-packages/statsmodels/base/model.py:466: ConvergenceWarning: Maximum Likelihood optimization failed to converge. Check mle_retvals\n",
      "  \"Check mle_retvals\", ConvergenceWarning)\n"
     ]
    }
   ],
   "source": [
    "for n in range(1,12):\n",
    "    model = sm.tsa.ARMA(train, (0,n)).fit()\n",
    "    predictions = model.predict(\n",
    "    '2012-04-01',\n",
    "    '2013-12-01 ',\n",
    "    dynamic=True, \n",
    ")\n",
    "    print(\"Mean absolute error: \", mean_absolute_error(test, predictions))\n",
    "    "
   ]
  },
  {
   "cell_type": "code",
   "execution_count": 23,
   "metadata": {
    "collapsed": false
   },
   "outputs": [
    {
     "name": "stdout",
     "output_type": "stream",
     "text": [
      "                                ARMA Model Results                                \n",
      "==================================================================================\n",
      "Dep. Variable:     International Visitors   No. Observations:                   63\n",
      "Model:                         ARMA(0, 1)   Log Likelihood                -803.321\n",
      "Method:                           css-mle   S.D. of innovations          83380.808\n",
      "Date:                    Fri, 02 Dec 2016   AIC                           1612.643\n",
      "Time:                            12:20:56   BIC                           1619.072\n",
      "Sample:                        01-01-2007   HQIC                          1615.171\n",
      "                             - 03-01-2012                                         \n",
      "================================================================================================\n",
      "                                   coef    std err          z      P>|z|      [95.0% Conf. Int.]\n",
      "------------------------------------------------------------------------------------------------\n",
      "const                         4.867e+05   1.41e+04     34.530      0.000      4.59e+05  5.14e+05\n",
      "ma.L1.International Visitors     0.3473      0.100      3.489      0.001         0.152     0.542\n",
      "                                    Roots                                    \n",
      "=============================================================================\n",
      "                 Real           Imaginary           Modulus         Frequency\n",
      "-----------------------------------------------------------------------------\n",
      "MA.1           -2.8795           +0.0000j            2.8795            0.5000\n",
      "-----------------------------------------------------------------------------\n",
      "                                ARMA Model Results                                \n",
      "==================================================================================\n",
      "Dep. Variable:     International Visitors   No. Observations:                   63\n",
      "Model:                         ARMA(0, 2)   Log Likelihood                -800.241\n",
      "Method:                           css-mle   S.D. of innovations          79271.952\n",
      "Date:                    Fri, 02 Dec 2016   AIC                           1608.481\n",
      "Time:                            12:20:56   BIC                           1617.054\n",
      "Sample:                        01-01-2007   HQIC                          1611.853\n",
      "                             - 03-01-2012                                         \n",
      "================================================================================================\n",
      "                                   coef    std err          z      P>|z|      [95.0% Conf. Int.]\n",
      "------------------------------------------------------------------------------------------------\n",
      "const                         4.867e+05   1.71e+04     28.509      0.000      4.53e+05   5.2e+05\n",
      "ma.L1.International Visitors     0.3824      0.118      3.248      0.002         0.152     0.613\n",
      "ma.L2.International Visitors     0.3426      0.133      2.584      0.012         0.083     0.602\n",
      "                                    Roots                                    \n",
      "=============================================================================\n",
      "                 Real           Imaginary           Modulus         Frequency\n",
      "-----------------------------------------------------------------------------\n",
      "MA.1           -0.5581           -1.6147j            1.7084           -0.3030\n",
      "MA.2           -0.5581           +1.6147j            1.7084            0.3030\n",
      "-----------------------------------------------------------------------------\n",
      "                                ARMA Model Results                                \n",
      "==================================================================================\n",
      "Dep. Variable:     International Visitors   No. Observations:                   63\n",
      "Model:                         ARMA(0, 3)   Log Likelihood                -799.600\n",
      "Method:                           css-mle   S.D. of innovations          78470.973\n",
      "Date:                    Fri, 02 Dec 2016   AIC                           1609.200\n",
      "Time:                            12:20:56   BIC                           1619.916\n",
      "Sample:                        01-01-2007   HQIC                          1613.415\n",
      "                             - 03-01-2012                                         \n",
      "================================================================================================\n",
      "                                   coef    std err          z      P>|z|      [95.0% Conf. Int.]\n",
      "------------------------------------------------------------------------------------------------\n",
      "const                         4.867e+05   1.88e+04     25.928      0.000       4.5e+05  5.24e+05\n",
      "ma.L1.International Visitors     0.4021      0.142      2.834      0.006         0.124     0.680\n",
      "ma.L2.International Visitors     0.3330      0.121      2.746      0.008         0.095     0.571\n",
      "ma.L3.International Visitors     0.1837      0.190      0.967      0.337        -0.189     0.556\n",
      "                                    Roots                                    \n",
      "=============================================================================\n",
      "                 Real           Imaginary           Modulus         Frequency\n",
      "-----------------------------------------------------------------------------\n",
      "MA.1            0.1158           -1.6277j            1.6318           -0.2387\n",
      "MA.2            0.1158           +1.6277j            1.6318            0.2387\n",
      "MA.3           -2.0446           -0.0000j            2.0446           -0.5000\n",
      "-----------------------------------------------------------------------------\n",
      "                                ARMA Model Results                                \n",
      "==================================================================================\n",
      "Dep. Variable:     International Visitors   No. Observations:                   63\n",
      "Model:                         ARMA(0, 4)   Log Likelihood                -798.919\n",
      "Method:                           css-mle   S.D. of innovations          77440.870\n",
      "Date:                    Fri, 02 Dec 2016   AIC                           1609.838\n",
      "Time:                            12:20:57   BIC                           1622.697\n",
      "Sample:                        01-01-2007   HQIC                          1614.896\n",
      "                             - 03-01-2012                                         \n",
      "================================================================================================\n",
      "                                   coef    std err          z      P>|z|      [95.0% Conf. Int.]\n",
      "------------------------------------------------------------------------------------------------\n",
      "const                         4.867e+05   2.25e+04     21.633      0.000      4.43e+05  5.31e+05\n",
      "ma.L1.International Visitors     0.3837      0.121      3.182      0.002         0.147     0.620\n",
      "ma.L2.International Visitors     0.4347      0.160      2.712      0.009         0.120     0.749\n",
      "ma.L3.International Visitors     0.3658      0.215      1.699      0.095        -0.056     0.788\n",
      "ma.L4.International Visitors     0.1633      0.132      1.237      0.221        -0.095     0.422\n",
      "                                    Roots                                    \n",
      "=============================================================================\n",
      "                 Real           Imaginary           Modulus         Frequency\n",
      "-----------------------------------------------------------------------------\n",
      "MA.1            0.4226           -1.2459j            1.3156           -0.1980\n",
      "MA.2            0.4226           +1.2459j            1.3156            0.1980\n",
      "MA.3           -1.5424           -1.0765j            1.8809           -0.4030\n",
      "MA.4           -1.5424           +1.0765j            1.8809            0.4030\n",
      "-----------------------------------------------------------------------------\n",
      "                                ARMA Model Results                                \n",
      "==================================================================================\n",
      "Dep. Variable:     International Visitors   No. Observations:                   63\n",
      "Model:                         ARMA(0, 5)   Log Likelihood                -798.086\n",
      "Method:                           css-mle   S.D. of innovations          75939.304\n",
      "Date:                    Fri, 02 Dec 2016   AIC                           1610.172\n",
      "Time:                            12:20:57   BIC                           1625.174\n",
      "Sample:                        01-01-2007   HQIC                          1616.072\n",
      "                             - 03-01-2012                                         \n",
      "================================================================================================\n",
      "                                   coef    std err          z      P>|z|      [95.0% Conf. Int.]\n",
      "------------------------------------------------------------------------------------------------\n",
      "const                         4.867e+05   2.63e+04     18.532      0.000      4.35e+05  5.38e+05\n",
      "ma.L1.International Visitors     0.3774      0.153      2.468      0.017         0.078     0.677\n",
      "ma.L2.International Visitors     0.5716      0.131      4.360      0.000         0.315     0.829\n",
      "ma.L3.International Visitors     0.2965      0.115      2.568      0.013         0.070     0.523\n",
      "ma.L4.International Visitors     0.1790      0.125      1.438      0.156        -0.065     0.423\n",
      "ma.L5.International Visitors     0.3865      0.209      1.848      0.070        -0.023     0.796\n",
      "                                    Roots                                    \n",
      "=============================================================================\n",
      "                 Real           Imaginary           Modulus         Frequency\n",
      "-----------------------------------------------------------------------------\n",
      "MA.1           -1.2760           -0.0000j            1.2760           -0.5000\n",
      "MA.2            0.7567           -1.0067j            1.2594           -0.1474\n",
      "MA.3            0.7567           +1.0067j            1.2594            0.1474\n",
      "MA.4           -0.3502           -1.0750j            1.1306           -0.3001\n",
      "MA.5           -0.3502           +1.0750j            1.1306            0.3001\n",
      "-----------------------------------------------------------------------------\n",
      "                                ARMA Model Results                                \n",
      "==================================================================================\n",
      "Dep. Variable:     International Visitors   No. Observations:                   63\n",
      "Model:                         ARMA(0, 6)   Log Likelihood                -795.637\n",
      "Method:                           css-mle   S.D. of innovations          72680.420\n",
      "Date:                    Fri, 02 Dec 2016   AIC                           1607.273\n",
      "Time:                            12:20:57   BIC                           1624.418\n",
      "Sample:                        01-01-2007   HQIC                          1614.017\n",
      "                             - 03-01-2012                                         \n",
      "================================================================================================\n",
      "                                   coef    std err          z      P>|z|      [95.0% Conf. Int.]\n",
      "------------------------------------------------------------------------------------------------\n",
      "const                         4.867e+05   1.13e+04     43.171      0.000      4.65e+05  5.09e+05\n",
      "ma.L1.International Visitors     0.3159      0.135      2.340      0.023         0.051     0.580\n",
      "ma.L2.International Visitors     0.3445      0.146      2.364      0.022         0.059     0.630\n",
      "ma.L3.International Visitors     0.1766      0.159      1.111      0.271        -0.135     0.488\n",
      "ma.L4.International Visitors    -0.1053      0.158     -0.664      0.509        -0.416     0.205\n",
      "ma.L5.International Visitors    -0.3674      0.174     -2.113      0.039        -0.708    -0.027\n",
      "ma.L6.International Visitors    -0.3372      0.118     -2.862      0.006        -0.568    -0.106\n",
      "                                    Roots                                    \n",
      "=============================================================================\n",
      "                 Real           Imaginary           Modulus         Frequency\n",
      "-----------------------------------------------------------------------------\n",
      "MA.1            1.2052           -0.0000j            1.2052           -0.0000\n",
      "MA.2            0.3033           -1.0122j            1.0567           -0.2037\n",
      "MA.3            0.3033           +1.0122j            1.0567            0.2037\n",
      "MA.4           -0.7730           -1.0140j            1.2750           -0.3537\n",
      "MA.5           -0.7730           +1.0140j            1.2750            0.3537\n",
      "MA.6           -1.3553           -0.0000j            1.3553           -0.5000\n",
      "-----------------------------------------------------------------------------\n"
     ]
    },
    {
     "name": "stderr",
     "output_type": "stream",
     "text": [
      "/Users/mikaelroussel/anaconda/lib/python2.7/site-packages/statsmodels/base/model.py:466: ConvergenceWarning: Maximum Likelihood optimization failed to converge. Check mle_retvals\n",
      "  \"Check mle_retvals\", ConvergenceWarning)\n"
     ]
    },
    {
     "name": "stdout",
     "output_type": "stream",
     "text": [
      "                                ARMA Model Results                                \n",
      "==================================================================================\n",
      "Dep. Variable:     International Visitors   No. Observations:                   63\n",
      "Model:                         ARMA(0, 7)   Log Likelihood                -793.520\n",
      "Method:                           css-mle   S.D. of innovations          68407.220\n",
      "Date:                    Fri, 02 Dec 2016   AIC                           1605.039\n",
      "Time:                            12:20:58   BIC                           1624.327\n",
      "Sample:                        01-01-2007   HQIC                          1612.625\n",
      "                             - 03-01-2012                                         \n",
      "================================================================================================\n",
      "                                   coef    std err          z      P>|z|      [95.0% Conf. Int.]\n",
      "------------------------------------------------------------------------------------------------\n",
      "const                         4.916e+05   4380.432    112.227      0.000      4.83e+05     5e+05\n",
      "ma.L1.International Visitors     0.3828        nan        nan        nan           nan       nan\n",
      "ma.L2.International Visitors     0.4839        nan        nan        nan           nan       nan\n",
      "ma.L3.International Visitors     0.1926        nan        nan        nan           nan       nan\n",
      "ma.L4.International Visitors    -0.3055        nan        nan        nan           nan       nan\n",
      "ma.L5.International Visitors    -0.3416        nan        nan        nan           nan       nan\n",
      "ma.L6.International Visitors    -0.6514        nan        nan        nan           nan       nan\n",
      "ma.L7.International Visitors    -0.5036        nan        nan        nan           nan       nan\n",
      "                                    Roots                                    \n",
      "=============================================================================\n",
      "                 Real           Imaginary           Modulus         Frequency\n",
      "-----------------------------------------------------------------------------\n",
      "MA.1            1.0281           -0.0000j            1.0281           -0.0000\n",
      "MA.2            0.3796           -0.9490j            1.0221           -0.1894\n",
      "MA.3            0.3796           +0.9490j            1.0221            0.1894\n",
      "MA.4           -0.3314           -1.0208j            1.0733           -0.3000\n",
      "MA.5           -0.3314           +1.0208j            1.0733            0.3000\n",
      "MA.6           -1.2090           -0.3784j            1.2668           -0.4517\n",
      "MA.7           -1.2090           +0.3784j            1.2668            0.4517\n",
      "-----------------------------------------------------------------------------\n"
     ]
    },
    {
     "name": "stderr",
     "output_type": "stream",
     "text": [
      "/Users/mikaelroussel/anaconda/lib/python2.7/site-packages/statsmodels/base/model.py:466: ConvergenceWarning: Maximum Likelihood optimization failed to converge. Check mle_retvals\n",
      "  \"Check mle_retvals\", ConvergenceWarning)\n"
     ]
    },
    {
     "name": "stdout",
     "output_type": "stream",
     "text": [
      "                                ARMA Model Results                                \n",
      "==================================================================================\n",
      "Dep. Variable:     International Visitors   No. Observations:                   63\n",
      "Model:                         ARMA(0, 8)   Log Likelihood                -792.652\n",
      "Method:                           css-mle   S.D. of innovations          68298.609\n",
      "Date:                    Fri, 02 Dec 2016   AIC                           1605.305\n",
      "Time:                            12:20:59   BIC                           1626.736\n",
      "Sample:                        01-01-2007   HQIC                          1613.734\n",
      "                             - 03-01-2012                                         \n",
      "================================================================================================\n",
      "                                   coef    std err          z      P>|z|      [95.0% Conf. Int.]\n",
      "------------------------------------------------------------------------------------------------\n",
      "const                         4.867e+05   1.11e+04     43.777      0.000      4.65e+05  5.09e+05\n",
      "ma.L1.International Visitors     0.3800      0.130      2.913      0.005         0.124     0.636\n",
      "ma.L2.International Visitors     0.4165      0.147      2.838      0.006         0.129     0.704\n",
      "ma.L3.International Visitors     0.1940      0.161      1.208      0.232        -0.121     0.509\n",
      "ma.L4.International Visitors    -0.3002      0.169     -1.775      0.081        -0.632     0.031\n",
      "ma.L5.International Visitors    -0.1853      0.156     -1.188      0.240        -0.491     0.120\n",
      "ma.L6.International Visitors    -0.4174      0.164     -2.540      0.014        -0.740    -0.095\n",
      "ma.L7.International Visitors    -0.3179      0.155     -2.053      0.045        -0.621    -0.014\n",
      "ma.L8.International Visitors     0.2439      0.150      1.623      0.110        -0.051     0.538\n",
      "                                    Roots                                    \n",
      "=============================================================================\n",
      "                 Real           Imaginary           Modulus         Frequency\n",
      "-----------------------------------------------------------------------------\n",
      "MA.1           -1.0772           -0.3487j            1.1323           -0.4502\n",
      "MA.2           -1.0772           +0.3487j            1.1323            0.4502\n",
      "MA.3           -0.3421           -0.9868j            1.0444           -0.3031\n",
      "MA.4           -0.3421           +0.9868j            1.0444            0.3031\n",
      "MA.5            0.3531           -0.9847j            1.0461           -0.1952\n",
      "MA.6            0.3531           +0.9847j            1.0461            0.1952\n",
      "MA.7            1.1962           -0.0000j            1.1962           -0.0000\n",
      "MA.8            2.2397           -0.0000j            2.2397           -0.0000\n",
      "-----------------------------------------------------------------------------\n"
     ]
    },
    {
     "name": "stderr",
     "output_type": "stream",
     "text": [
      "/Users/mikaelroussel/anaconda/lib/python2.7/site-packages/statsmodels/base/model.py:466: ConvergenceWarning: Maximum Likelihood optimization failed to converge. Check mle_retvals\n",
      "  \"Check mle_retvals\", ConvergenceWarning)\n"
     ]
    },
    {
     "name": "stdout",
     "output_type": "stream",
     "text": [
      "                                ARMA Model Results                                \n",
      "==================================================================================\n",
      "Dep. Variable:     International Visitors   No. Observations:                   63\n",
      "Model:                         ARMA(0, 9)   Log Likelihood                -792.543\n",
      "Method:                           css-mle   S.D. of innovations          68033.109\n",
      "Date:                    Fri, 02 Dec 2016   AIC                           1607.086\n",
      "Time:                            12:21:01   BIC                           1630.660\n",
      "Sample:                        01-01-2007   HQIC                          1616.358\n",
      "                             - 03-01-2012                                         \n",
      "================================================================================================\n",
      "                                   coef    std err          z      P>|z|      [95.0% Conf. Int.]\n",
      "------------------------------------------------------------------------------------------------\n",
      "const                         4.867e+05   1.09e+04     44.536      0.000      4.65e+05  5.08e+05\n",
      "ma.L1.International Visitors     0.3679      0.137      2.695      0.009         0.100     0.635\n",
      "ma.L2.International Visitors     0.4414      0.161      2.738      0.008         0.125     0.757\n",
      "ma.L3.International Visitors     0.2079      0.164      1.270      0.210        -0.113     0.529\n",
      "ma.L4.International Visitors    -0.2872      0.174     -1.655      0.104        -0.627     0.053\n",
      "ma.L5.International Visitors    -0.1510      0.197     -0.766      0.447        -0.537     0.235\n",
      "ma.L6.International Visitors    -0.4206      0.169     -2.485      0.016        -0.752    -0.089\n",
      "ma.L7.International Visitors    -0.3335      0.155     -2.152      0.036        -0.637    -0.030\n",
      "ma.L8.International Visitors     0.2383      0.139      1.719      0.091        -0.033     0.510\n",
      "ma.L9.International Visitors    -0.0954      0.233     -0.410      0.683        -0.551     0.360\n",
      "                                    Roots                                    \n",
      "=============================================================================\n",
      "                 Real           Imaginary           Modulus         Frequency\n",
      "-----------------------------------------------------------------------------\n",
      "MA.1           -1.0435           -0.3372j            1.0966           -0.4502\n",
      "MA.2           -1.0435           +0.3372j            1.0966            0.4502\n",
      "MA.3           -0.3549           -0.9722j            1.0350           -0.3057\n",
      "MA.4           -0.3549           +0.9722j            1.0350            0.3057\n",
      "MA.5            0.3453           -1.0029j            1.0607           -0.1972\n",
      "MA.6            0.3453           +1.0029j            1.0607            0.1972\n",
      "MA.7            1.1556           -0.0000j            1.1556           -0.0000\n",
      "MA.8            1.7237           -1.8126j            2.5013           -0.1290\n",
      "MA.9            1.7237           +1.8126j            2.5013            0.1290\n",
      "-----------------------------------------------------------------------------\n"
     ]
    },
    {
     "name": "stderr",
     "output_type": "stream",
     "text": [
      "/Users/mikaelroussel/anaconda/lib/python2.7/site-packages/statsmodels/base/model.py:466: ConvergenceWarning: Maximum Likelihood optimization failed to converge. Check mle_retvals\n",
      "  \"Check mle_retvals\", ConvergenceWarning)\n"
     ]
    },
    {
     "name": "stdout",
     "output_type": "stream",
     "text": [
      "                                ARMA Model Results                                \n",
      "==================================================================================\n",
      "Dep. Variable:     International Visitors   No. Observations:                   63\n",
      "Model:                        ARMA(0, 10)   Log Likelihood                -787.159\n",
      "Method:                           css-mle   S.D. of innovations          58986.775\n",
      "Date:                    Fri, 02 Dec 2016   AIC                           1598.318\n",
      "Time:                            12:21:03   BIC                           1624.036\n",
      "Sample:                        01-01-2007   HQIC                          1608.433\n",
      "                             - 03-01-2012                                         \n",
      "=================================================================================================\n",
      "                                    coef    std err          z      P>|z|      [95.0% Conf. Int.]\n",
      "-------------------------------------------------------------------------------------------------\n",
      "const                          4.867e+05        nan        nan        nan           nan       nan\n",
      "ma.L1.International Visitors      0.1669        nan        nan        nan           nan       nan\n",
      "ma.L2.International Visitors      0.4335        nan        nan        nan           nan       nan\n",
      "ma.L3.International Visitors      0.4016        nan        nan        nan           nan       nan\n",
      "ma.L4.International Visitors     -0.0115        nan        nan        nan           nan       nan\n",
      "ma.L5.International Visitors      0.1957        nan        nan        nan           nan       nan\n",
      "ma.L6.International Visitors     -0.2788        nan        nan        nan           nan       nan\n",
      "ma.L7.International Visitors     -0.4205        nan        nan        nan           nan       nan\n",
      "ma.L8.International Visitors     -0.0827        nan        nan        nan           nan       nan\n",
      "ma.L9.International Visitors     -0.7385        nan        nan        nan           nan       nan\n",
      "ma.L10.International Visitors    -0.3823      0.097     -3.926      0.000        -0.573    -0.191\n",
      "                                    Roots                                     \n",
      "==============================================================================\n",
      "                  Real           Imaginary           Modulus         Frequency\n",
      "------------------------------------------------------------------------------\n",
      "MA.1             1.0206           -0.0000j            1.0206           -0.0000\n",
      "MA.2             0.6776           -0.7423j            1.0051           -0.1322\n",
      "MA.3             0.6776           +0.7423j            1.0051            0.1322\n",
      "MA.4             0.2375           -0.9969j            1.0248           -0.2128\n",
      "MA.5             0.2375           +0.9969j            1.0248            0.2128\n",
      "MA.6            -0.3623           -0.9352j            1.0029           -0.3088\n",
      "MA.7            -0.3623           +0.9352j            1.0029            0.3088\n",
      "MA.8            -1.0436           -0.3599j            1.1039           -0.4471\n",
      "MA.9            -1.0436           +0.3599j            1.1039            0.4471\n",
      "MA.10           -1.9707           -0.0000j            1.9707           -0.5000\n",
      "------------------------------------------------------------------------------\n"
     ]
    },
    {
     "name": "stderr",
     "output_type": "stream",
     "text": [
      "/Users/mikaelroussel/anaconda/lib/python2.7/site-packages/statsmodels/base/model.py:466: ConvergenceWarning: Maximum Likelihood optimization failed to converge. Check mle_retvals\n",
      "  \"Check mle_retvals\", ConvergenceWarning)\n"
     ]
    },
    {
     "name": "stdout",
     "output_type": "stream",
     "text": [
      "                                ARMA Model Results                                \n",
      "==================================================================================\n",
      "Dep. Variable:     International Visitors   No. Observations:                   63\n",
      "Model:                        ARMA(0, 11)   Log Likelihood                -786.249\n",
      "Method:                           css-mle   S.D. of innovations          55190.509\n",
      "Date:                    Fri, 02 Dec 2016   AIC                           1598.499\n",
      "Time:                            12:21:08   BIC                           1626.360\n",
      "Sample:                        01-01-2007   HQIC                          1609.457\n",
      "                             - 03-01-2012                                         \n",
      "=================================================================================================\n",
      "                                    coef    std err          z      P>|z|      [95.0% Conf. Int.]\n",
      "-------------------------------------------------------------------------------------------------\n",
      "const                          4.867e+05   7166.671     67.916      0.000      4.73e+05  5.01e+05\n",
      "ma.L1.International Visitors      0.4168      0.187      2.227      0.030         0.050     0.784\n",
      "ma.L2.International Visitors      0.7503      0.215      3.494      0.001         0.329     1.171\n",
      "ma.L3.International Visitors      0.3984      0.194      2.053      0.045         0.018     0.779\n",
      "ma.L4.International Visitors      0.2976      0.239      1.247      0.218        -0.170     0.766\n",
      "ma.L5.International Visitors      0.1768      0.251      0.703      0.485        -0.316     0.670\n",
      "ma.L6.International Visitors     -0.2345      0.254     -0.924      0.360        -0.732     0.263\n",
      "ma.L7.International Visitors     -0.2021      0.246     -0.823      0.414        -0.684     0.279\n",
      "ma.L8.International Visitors     -0.5778      0.243     -2.382      0.021        -1.053    -0.102\n",
      "ma.L9.International Visitors     -0.5536      0.240     -2.310      0.025        -1.023    -0.084\n",
      "ma.L10.International Visitors    -0.6190      0.183     -3.377      0.001        -0.978    -0.260\n",
      "ma.L11.International Visitors    -0.8468      0.153     -5.521      0.000        -1.147    -0.546\n",
      "                                    Roots                                     \n",
      "==============================================================================\n",
      "                  Real           Imaginary           Modulus         Frequency\n",
      "------------------------------------------------------------------------------\n",
      "MA.1             1.0003           -0.0000j            1.0003           -0.0000\n",
      "MA.2             0.7118           -0.7028j            1.0003           -0.1240\n",
      "MA.3             0.7118           +0.7028j            1.0003            0.1240\n",
      "MA.4             0.3035           -0.9528j            1.0000           -0.2009\n",
      "MA.5             0.3035           +0.9528j            1.0000            0.2009\n",
      "MA.6            -0.1932           -0.9813j            1.0002           -0.2809\n",
      "MA.7            -0.1932           +0.9813j            1.0002            0.2809\n",
      "MA.8            -0.6370           -0.7760j            1.0039           -0.3594\n",
      "MA.9            -0.6370           +0.7760j            1.0039            0.3594\n",
      "MA.10           -1.0508           -0.2568j            1.0817           -0.4619\n",
      "MA.11           -1.0508           +0.2568j            1.0817            0.4619\n",
      "------------------------------------------------------------------------------\n"
     ]
    }
   ],
   "source": [
    "for n in range(1,12):\n",
    "    model = sm.tsa.ARMA(train, (0,n)).fit()\n",
    "    print model.summary()"
   ]
  },
  {
   "cell_type": "markdown",
   "metadata": {},
   "source": [
    "#### Conclusion:\n",
    "\n",
    "When comparing the performance of the model run with the different lags, the model with a lag of 2 performs best overall. Its 2 included lags are statistically significant and its MAE of 130193.88  is relatively good compared to other lags.\n",
    "\n",
    "This MA model seems to be slightly better than the best two AR models."
   ]
  },
  {
   "cell_type": "markdown",
   "metadata": {},
   "source": [
    "### Using an ARMA model:"
   ]
  },
  {
   "cell_type": "markdown",
   "metadata": {},
   "source": [
    "An ARMA model was put together that combines the lags from the best AR models and the best MA model. Below are the results."
   ]
  },
  {
   "cell_type": "code",
   "execution_count": 28,
   "metadata": {
    "collapsed": false
   },
   "outputs": [
    {
     "name": "stdout",
     "output_type": "stream",
     "text": [
      "('Mean absolute error: ', 127045.22247084968)\n"
     ]
    },
    {
     "data": {
      "text/html": [
       "<table class=\"simpletable\">\n",
       "<caption>ARMA Model Results</caption>\n",
       "<tr>\n",
       "  <th>Dep. Variable:</th> <td>International Visitors</td> <th>  No. Observations:  </th>    <td>63</td>    \n",
       "</tr>\n",
       "<tr>\n",
       "  <th>Model:</th>               <td>ARMA(1, 2)</td>       <th>  Log Likelihood     </th> <td>-799.507</td> \n",
       "</tr>\n",
       "<tr>\n",
       "  <th>Method:</th>                <td>css-mle</td>        <th>  S.D. of innovations</th> <td>78319.689</td>\n",
       "</tr>\n",
       "<tr>\n",
       "  <th>Date:</th>             <td>Fri, 02 Dec 2016</td>    <th>  AIC                </th> <td>1609.014</td> \n",
       "</tr>\n",
       "<tr>\n",
       "  <th>Time:</th>                 <td>12:23:42</td>        <th>  BIC                </th> <td>1619.730</td> \n",
       "</tr>\n",
       "<tr>\n",
       "  <th>Sample:</th>              <td>01-01-2007</td>       <th>  HQIC               </th> <td>1613.229</td> \n",
       "</tr>\n",
       "<tr>\n",
       "  <th></th>                    <td>- 03-01-2012</td>      <th>                     </th>     <td> </td>    \n",
       "</tr>\n",
       "</table>\n",
       "<table class=\"simpletable\">\n",
       "<tr>\n",
       "                <td></td>                  <th>coef</th>     <th>std err</th>      <th>z</th>      <th>P>|z|</th> <th>[95.0% Conf. Int.]</th> \n",
       "</tr>\n",
       "<tr>\n",
       "  <th>const</th>                        <td> 4.867e+05</td> <td> 2.12e+04</td> <td>   22.950</td> <td> 0.000</td> <td> 4.45e+05  5.28e+05</td>\n",
       "</tr>\n",
       "<tr>\n",
       "  <th>ar.L1.International Visitors</th> <td>    0.4678</td> <td>    0.256</td> <td>    1.825</td> <td> 0.073</td> <td>   -0.035     0.970</td>\n",
       "</tr>\n",
       "<tr>\n",
       "  <th>ma.L1.International Visitors</th> <td>   -0.0557</td> <td>    0.273</td> <td>   -0.204</td> <td> 0.839</td> <td>   -0.591     0.480</td>\n",
       "</tr>\n",
       "<tr>\n",
       "  <th>ma.L2.International Visitors</th> <td>    0.2186</td> <td>    0.132</td> <td>    1.654</td> <td> 0.103</td> <td>   -0.040     0.478</td>\n",
       "</tr>\n",
       "</table>\n",
       "<table class=\"simpletable\">\n",
       "<caption>Roots</caption>\n",
       "<tr>\n",
       "    <td></td>   <th>           Real</th> <th>         Imaginary</th> <th>         Modulus</th> <th>        Frequency</th>\n",
       "</tr>\n",
       "<tr>\n",
       "  <th>AR.1</th>               2.1376                    +0.0000j                    2.1376                    0.0000     \n",
       "</tr>\n",
       "<tr>\n",
       "  <th>MA.1</th>               0.1275                    -2.1348j                    2.1387                   -0.2405     \n",
       "</tr>\n",
       "<tr>\n",
       "  <th>MA.2</th>               0.1275                    +2.1348j                    2.1387                    0.2405     \n",
       "</tr>\n",
       "</table>"
      ],
      "text/plain": [
       "<class 'statsmodels.iolib.summary.Summary'>\n",
       "\"\"\"\n",
       "                                ARMA Model Results                                \n",
       "==================================================================================\n",
       "Dep. Variable:     International Visitors   No. Observations:                   63\n",
       "Model:                         ARMA(1, 2)   Log Likelihood                -799.507\n",
       "Method:                           css-mle   S.D. of innovations          78319.689\n",
       "Date:                    Fri, 02 Dec 2016   AIC                           1609.014\n",
       "Time:                            12:23:42   BIC                           1619.730\n",
       "Sample:                        01-01-2007   HQIC                          1613.229\n",
       "                             - 03-01-2012                                         \n",
       "================================================================================================\n",
       "                                   coef    std err          z      P>|z|      [95.0% Conf. Int.]\n",
       "------------------------------------------------------------------------------------------------\n",
       "const                         4.867e+05   2.12e+04     22.950      0.000      4.45e+05  5.28e+05\n",
       "ar.L1.International Visitors     0.4678      0.256      1.825      0.073        -0.035     0.970\n",
       "ma.L1.International Visitors    -0.0557      0.273     -0.204      0.839        -0.591     0.480\n",
       "ma.L2.International Visitors     0.2186      0.132      1.654      0.103        -0.040     0.478\n",
       "                                    Roots                                    \n",
       "=============================================================================\n",
       "                 Real           Imaginary           Modulus         Frequency\n",
       "-----------------------------------------------------------------------------\n",
       "AR.1            2.1376           +0.0000j            2.1376            0.0000\n",
       "MA.1            0.1275           -2.1348j            2.1387           -0.2405\n",
       "MA.2            0.1275           +2.1348j            2.1387            0.2405\n",
       "-----------------------------------------------------------------------------\n",
       "\"\"\""
      ]
     },
     "execution_count": 28,
     "metadata": {},
     "output_type": "execute_result"
    }
   ],
   "source": [
    "model = sm.tsa.ARIMA(train, (1, 0, 2)).fit()\n",
    "print(\"Mean absolute error: \", mean_absolute_error(test, predictions))\n",
    "model.summary()"
   ]
  },
  {
   "cell_type": "code",
   "execution_count": 25,
   "metadata": {
    "collapsed": false
   },
   "outputs": [
    {
     "name": "stdout",
     "output_type": "stream",
     "text": [
      "('Mean absolute error: ', 127045.22247084968)\n"
     ]
    },
    {
     "name": "stderr",
     "output_type": "stream",
     "text": [
      "/Users/mikaelroussel/anaconda/lib/python2.7/site-packages/statsmodels/base/model.py:466: ConvergenceWarning: Maximum Likelihood optimization failed to converge. Check mle_retvals\n",
      "  \"Check mle_retvals\", ConvergenceWarning)\n"
     ]
    },
    {
     "data": {
      "text/html": [
       "<table class=\"simpletable\">\n",
       "<caption>ARMA Model Results</caption>\n",
       "<tr>\n",
       "  <th>Dep. Variable:</th> <td>International Visitors</td> <th>  No. Observations:  </th>    <td>63</td>    \n",
       "</tr>\n",
       "<tr>\n",
       "  <th>Model:</th>               <td>ARMA(6, 2)</td>       <th>  Log Likelihood     </th> <td>-792.782</td> \n",
       "</tr>\n",
       "<tr>\n",
       "  <th>Method:</th>                <td>css-mle</td>        <th>  S.D. of innovations</th> <td>69640.897</td>\n",
       "</tr>\n",
       "<tr>\n",
       "  <th>Date:</th>             <td>Fri, 02 Dec 2016</td>    <th>  AIC                </th> <td>1605.564</td> \n",
       "</tr>\n",
       "<tr>\n",
       "  <th>Time:</th>                 <td>12:21:10</td>        <th>  BIC                </th> <td>1626.995</td> \n",
       "</tr>\n",
       "<tr>\n",
       "  <th>Sample:</th>              <td>01-01-2007</td>       <th>  HQIC               </th> <td>1613.993</td> \n",
       "</tr>\n",
       "<tr>\n",
       "  <th></th>                    <td>- 03-01-2012</td>      <th>                     </th>     <td> </td>    \n",
       "</tr>\n",
       "</table>\n",
       "<table class=\"simpletable\">\n",
       "<tr>\n",
       "                <td></td>                  <th>coef</th>     <th>std err</th>      <th>z</th>      <th>P>|z|</th> <th>[95.0% Conf. Int.]</th> \n",
       "</tr>\n",
       "<tr>\n",
       "  <th>const</th>                        <td> 4.904e+05</td> <td> 8010.672</td> <td>   61.220</td> <td> 0.000</td> <td> 4.75e+05  5.06e+05</td>\n",
       "</tr>\n",
       "<tr>\n",
       "  <th>ar.L1.International Visitors</th> <td>    0.4255</td> <td>    0.388</td> <td>    1.098</td> <td> 0.277</td> <td>   -0.334     1.185</td>\n",
       "</tr>\n",
       "<tr>\n",
       "  <th>ar.L2.International Visitors</th> <td>    0.0117</td> <td>    0.331</td> <td>    0.035</td> <td> 0.972</td> <td>   -0.637     0.660</td>\n",
       "</tr>\n",
       "<tr>\n",
       "  <th>ar.L3.International Visitors</th> <td>   -0.0078</td> <td>    0.178</td> <td>   -0.044</td> <td> 0.965</td> <td>   -0.357     0.341</td>\n",
       "</tr>\n",
       "<tr>\n",
       "  <th>ar.L4.International Visitors</th> <td>   -0.1074</td> <td>    0.150</td> <td>   -0.718</td> <td> 0.476</td> <td>   -0.401     0.186</td>\n",
       "</tr>\n",
       "<tr>\n",
       "  <th>ar.L5.International Visitors</th> <td>   -0.0546</td> <td>    0.150</td> <td>   -0.364</td> <td> 0.717</td> <td>   -0.348     0.239</td>\n",
       "</tr>\n",
       "<tr>\n",
       "  <th>ar.L6.International Visitors</th> <td>   -0.3426</td> <td>    0.164</td> <td>   -2.090</td> <td> 0.041</td> <td>   -0.664    -0.021</td>\n",
       "</tr>\n",
       "<tr>\n",
       "  <th>ma.L1.International Visitors</th> <td>   -0.1835</td> <td>    0.413</td> <td>   -0.445</td> <td> 0.658</td> <td>   -0.992     0.625</td>\n",
       "</tr>\n",
       "<tr>\n",
       "  <th>ma.L2.International Visitors</th> <td>    0.1204</td> <td>    0.305</td> <td>    0.395</td> <td> 0.694</td> <td>   -0.477     0.718</td>\n",
       "</tr>\n",
       "</table>\n",
       "<table class=\"simpletable\">\n",
       "<caption>Roots</caption>\n",
       "<tr>\n",
       "    <td></td>   <th>           Real</th> <th>         Imaginary</th> <th>         Modulus</th> <th>        Frequency</th>\n",
       "</tr>\n",
       "<tr>\n",
       "  <th>AR.1</th>               0.9274                    -0.5121j                    1.0594                   -0.0803     \n",
       "</tr>\n",
       "<tr>\n",
       "  <th>AR.2</th>               0.9274                    +0.5121j                    1.0594                    0.0803     \n",
       "</tr>\n",
       "<tr>\n",
       "  <th>AR.3</th>              -1.0764                    -0.6921j                    1.2797                   -0.4091     \n",
       "</tr>\n",
       "<tr>\n",
       "  <th>AR.4</th>              -1.0764                    +0.6921j                    1.2797                    0.4091     \n",
       "</tr>\n",
       "<tr>\n",
       "  <th>AR.5</th>               0.0694                    -1.2582j                    1.2601                   -0.2412     \n",
       "</tr>\n",
       "<tr>\n",
       "  <th>AR.6</th>               0.0694                    +1.2582j                    1.2601                    0.2412     \n",
       "</tr>\n",
       "<tr>\n",
       "  <th>MA.1</th>               0.7619                    -2.7792j                    2.8817                   -0.2074     \n",
       "</tr>\n",
       "<tr>\n",
       "  <th>MA.2</th>               0.7619                    +2.7792j                    2.8817                    0.2074     \n",
       "</tr>\n",
       "</table>"
      ],
      "text/plain": [
       "<class 'statsmodels.iolib.summary.Summary'>\n",
       "\"\"\"\n",
       "                                ARMA Model Results                                \n",
       "==================================================================================\n",
       "Dep. Variable:     International Visitors   No. Observations:                   63\n",
       "Model:                         ARMA(6, 2)   Log Likelihood                -792.782\n",
       "Method:                           css-mle   S.D. of innovations          69640.897\n",
       "Date:                    Fri, 02 Dec 2016   AIC                           1605.564\n",
       "Time:                            12:21:10   BIC                           1626.995\n",
       "Sample:                        01-01-2007   HQIC                          1613.993\n",
       "                             - 03-01-2012                                         \n",
       "================================================================================================\n",
       "                                   coef    std err          z      P>|z|      [95.0% Conf. Int.]\n",
       "------------------------------------------------------------------------------------------------\n",
       "const                         4.904e+05   8010.672     61.220      0.000      4.75e+05  5.06e+05\n",
       "ar.L1.International Visitors     0.4255      0.388      1.098      0.277        -0.334     1.185\n",
       "ar.L2.International Visitors     0.0117      0.331      0.035      0.972        -0.637     0.660\n",
       "ar.L3.International Visitors    -0.0078      0.178     -0.044      0.965        -0.357     0.341\n",
       "ar.L4.International Visitors    -0.1074      0.150     -0.718      0.476        -0.401     0.186\n",
       "ar.L5.International Visitors    -0.0546      0.150     -0.364      0.717        -0.348     0.239\n",
       "ar.L6.International Visitors    -0.3426      0.164     -2.090      0.041        -0.664    -0.021\n",
       "ma.L1.International Visitors    -0.1835      0.413     -0.445      0.658        -0.992     0.625\n",
       "ma.L2.International Visitors     0.1204      0.305      0.395      0.694        -0.477     0.718\n",
       "                                    Roots                                    \n",
       "=============================================================================\n",
       "                 Real           Imaginary           Modulus         Frequency\n",
       "-----------------------------------------------------------------------------\n",
       "AR.1            0.9274           -0.5121j            1.0594           -0.0803\n",
       "AR.2            0.9274           +0.5121j            1.0594            0.0803\n",
       "AR.3           -1.0764           -0.6921j            1.2797           -0.4091\n",
       "AR.4           -1.0764           +0.6921j            1.2797            0.4091\n",
       "AR.5            0.0694           -1.2582j            1.2601           -0.2412\n",
       "AR.6            0.0694           +1.2582j            1.2601            0.2412\n",
       "MA.1            0.7619           -2.7792j            2.8817           -0.2074\n",
       "MA.2            0.7619           +2.7792j            2.8817            0.2074\n",
       "-----------------------------------------------------------------------------\n",
       "\"\"\""
      ]
     },
     "execution_count": 25,
     "metadata": {},
     "output_type": "execute_result"
    }
   ],
   "source": [
    "model = sm.tsa.ARIMA(train, (6, 0, 2)).fit()\n",
    "print(\"Mean absolute error: \", mean_absolute_error(test, predictions))\n",
    "model.summary()"
   ]
  },
  {
   "cell_type": "markdown",
   "metadata": {
    "collapsed": true
   },
   "source": [
    "### Conclusion:\n",
    "\n",
    "Neither of the ARMA models above are as good as either the best AR models or best MA model found.\n",
    "\n",
    "Overall, the best model seems to be an **MA(2) model**.\n",
    "\n",
    "It is important to note that the time series is non stationary. The next step will be to detrend this time series and then re-run the models to see what is the impact.\n",
    "\n"
   ]
  },
  {
   "cell_type": "code",
   "execution_count": null,
   "metadata": {
    "collapsed": true
   },
   "outputs": [],
   "source": []
  }
 ],
 "metadata": {
  "anaconda-cloud": {},
  "kernelspec": {
   "display_name": "Python [Root]",
   "language": "python",
   "name": "Python [Root]"
  },
  "language_info": {
   "codemirror_mode": {
    "name": "ipython",
    "version": 2
   },
   "file_extension": ".py",
   "mimetype": "text/x-python",
   "name": "python",
   "nbconvert_exporter": "python",
   "pygments_lexer": "ipython2",
   "version": "2.7.12"
  }
 },
 "nbformat": 4,
 "nbformat_minor": 0
}
