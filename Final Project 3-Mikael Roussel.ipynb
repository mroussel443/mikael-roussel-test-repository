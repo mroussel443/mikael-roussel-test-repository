{
 "cells": [
  {
   "cell_type": "code",
   "execution_count": 149,
   "metadata": {
    "collapsed": true
   },
   "outputs": [],
   "source": [
    "import pandas as pd\n",
    "import numpy as np"
   ]
  },
  {
   "cell_type": "code",
   "execution_count": 150,
   "metadata": {
    "collapsed": true
   },
   "outputs": [],
   "source": [
    "pat =  '../../../Desktop/Data Science Final Project/Monthly arrivals/top_ports-2007.xls'\n",
    "directory = '../../../Desktop/Data Science Final Project/Monthly arrivals/'\n",
    "exs = pd.read_excel(io=pat, sheetname=[0,1,2,3,4,5,6,7,8,9,10,11])"
   ]
  },
  {
   "cell_type": "code",
   "execution_count": 151,
   "metadata": {
    "collapsed": false
   },
   "outputs": [
    {
     "data": {
      "text/plain": [
       "'2017'"
      ]
     },
     "execution_count": 151,
     "metadata": {},
     "output_type": "execute_result"
    }
   ],
   "source": [
    "import re\n",
    "match = re.search('\\d{4}', \"adsdas2017\")\n",
    "match.group(0) \n"
   ]
  },
  {
   "cell_type": "code",
   "execution_count": 152,
   "metadata": {
    "collapsed": false
   },
   "outputs": [
    {
     "name": "stdout",
     "output_type": "stream",
     "text": [
      "../../../Desktop/Data Science Final Project/Monthly arrivals/International Visitors to NYC.xls\n"
     ]
    },
    {
     "ename": "AttributeError",
     "evalue": "'NoneType' object has no attribute 'group'",
     "output_type": "error",
     "traceback": [
      "\u001b[0;31m---------------------------------------------------------------------------\u001b[0m",
      "\u001b[0;31mAttributeError\u001b[0m                            Traceback (most recent call last)",
      "\u001b[0;32m<ipython-input-152-582a75bc69ba>\u001b[0m in \u001b[0;36m<module>\u001b[0;34m()\u001b[0m\n\u001b[1;32m      7\u001b[0m         \u001b[0;32mprint\u001b[0m \u001b[0mfilename\u001b[0m\u001b[0;34m\u001b[0m\u001b[0m\n\u001b[1;32m      8\u001b[0m         \u001b[0mmatch\u001b[0m \u001b[0;34m=\u001b[0m \u001b[0mre\u001b[0m\u001b[0;34m.\u001b[0m\u001b[0msearch\u001b[0m\u001b[0;34m(\u001b[0m\u001b[0;34m'\\d{4}'\u001b[0m\u001b[0;34m,\u001b[0m \u001b[0mfilename\u001b[0m\u001b[0;34m)\u001b[0m\u001b[0;34m\u001b[0m\u001b[0m\n\u001b[0;32m----> 9\u001b[0;31m         \u001b[0;32mprint\u001b[0m \u001b[0mmatch\u001b[0m\u001b[0;34m.\u001b[0m\u001b[0mgroup\u001b[0m\u001b[0;34m(\u001b[0m\u001b[0;36m0\u001b[0m\u001b[0;34m)\u001b[0m\u001b[0;34m\u001b[0m\u001b[0m\n\u001b[0m\u001b[1;32m     10\u001b[0m \u001b[0;34m\u001b[0m\u001b[0m\n\u001b[1;32m     11\u001b[0m         \u001b[0;32mcontinue\u001b[0m\u001b[0;34m\u001b[0m\u001b[0m\n",
      "\u001b[0;31mAttributeError\u001b[0m: 'NoneType' object has no attribute 'group'"
     ]
    }
   ],
   "source": [
    "import os\n",
    "import re\n",
    "\n",
    "for filename in os.listdir(directory):\n",
    "    if filename.endswith(\".xls\"): \n",
    "        filename = (os.path.join(directory, filename))\n",
    "        print filename\n",
    "        match = re.search('\\d{4}', filename)\n",
    "        print match.group(0) \n",
    "\n",
    "        continue\n",
    "    else:\n",
    "        continue"
   ]
  },
  {
   "cell_type": "code",
   "execution_count": 153,
   "metadata": {
    "collapsed": false
   },
   "outputs": [
    {
     "name": "stdout",
     "output_type": "stream",
     "text": [
      "../../../Desktop/Data Science Final Project/Monthly arrivals/International Visitors to NYC.xls\n"
     ]
    },
    {
     "ename": "AttributeError",
     "evalue": "'NoneType' object has no attribute 'group'",
     "output_type": "error",
     "traceback": [
      "\u001b[0;31m---------------------------------------------------------------------------\u001b[0m",
      "\u001b[0;31mAttributeError\u001b[0m                            Traceback (most recent call last)",
      "\u001b[0;32m<ipython-input-153-ca685eb1db9c>\u001b[0m in \u001b[0;36m<module>\u001b[0;34m()\u001b[0m\n\u001b[1;32m     15\u001b[0m \u001b[0;31m#         sheets = filename.sheet_names\u001b[0m\u001b[0;34m\u001b[0m\u001b[0;34m\u001b[0m\u001b[0m\n\u001b[1;32m     16\u001b[0m         \u001b[0mmatch\u001b[0m \u001b[0;34m=\u001b[0m \u001b[0mre\u001b[0m\u001b[0;34m.\u001b[0m\u001b[0msearch\u001b[0m\u001b[0;34m(\u001b[0m\u001b[0;34m'\\d{4}'\u001b[0m\u001b[0;34m,\u001b[0m \u001b[0mfilename\u001b[0m\u001b[0;34m)\u001b[0m\u001b[0;34m\u001b[0m\u001b[0m\n\u001b[0;32m---> 17\u001b[0;31m         \u001b[0myear\u001b[0m \u001b[0;34m=\u001b[0m \u001b[0mmatch\u001b[0m\u001b[0;34m.\u001b[0m\u001b[0mgroup\u001b[0m\u001b[0;34m(\u001b[0m\u001b[0;36m0\u001b[0m\u001b[0;34m)\u001b[0m\u001b[0;34m\u001b[0m\u001b[0m\n\u001b[0m\u001b[1;32m     18\u001b[0m         \u001b[0;32mprint\u001b[0m \u001b[0mmatch\u001b[0m\u001b[0;34m.\u001b[0m\u001b[0mgroup\u001b[0m\u001b[0;34m(\u001b[0m\u001b[0;36m0\u001b[0m\u001b[0;34m)\u001b[0m\u001b[0;34m\u001b[0m\u001b[0m\n\u001b[1;32m     19\u001b[0m         \u001b[0;32mfor\u001b[0m \u001b[0msheet\u001b[0m \u001b[0;32min\u001b[0m \u001b[0msheets\u001b[0m\u001b[0;34m:\u001b[0m\u001b[0;34m\u001b[0m\u001b[0m\n",
      "\u001b[0;31mAttributeError\u001b[0m: 'NoneType' object has no attribute 'group'"
     ]
    }
   ],
   "source": [
    "import os\n",
    "import re\n",
    "\n",
    "xl = pd.ExcelFile(pat)\n",
    "sheets = xl.sheet_names\n",
    "columns=[\"City\" , \"International Visitors\" , \"val2\" , \"val3\", \"Month\",\"Year\"]\n",
    "res = pd.DataFrame(columns=columns)\n",
    "for filename in os.listdir(directory):\n",
    "    if filename.endswith(\".xls\"): \n",
    "        filename = (os.path.join(directory, filename))\n",
    "#         exs = pd.read_excel(filename)\n",
    "        xl = pd.ExcelFile(filename)\n",
    "        sheets = xl.sheet_names\n",
    "        print filename\n",
    "#         sheets = filename.sheet_names\n",
    "        match = re.search('\\d{4}', filename)\n",
    "        year = match.group(0) \n",
    "        print match.group(0) \n",
    "        for sheet in sheets:\n",
    "            df = xl.parse(sheet,skiprows=4)\n",
    "            print sheet + str(df.shape)\n",
    "            print df.columns\n",
    "            temp = df[df.iloc[:,0].apply(lambda x : (\"NEW\" in str(x)))]\n",
    "            temp[\"Date\"] = sheet\n",
    "            temp[\"Year\"] = year\n",
    "            temp.columns=columns\n",
    "            res = res.append(temp,ignore_index=True)"
   ]
  },
  {
   "cell_type": "code",
   "execution_count": 154,
   "metadata": {
    "collapsed": false
   },
   "outputs": [],
   "source": [
    "res=res.drop([\"val2\" , \"val3\"],axis=1)"
   ]
  },
  {
   "cell_type": "code",
   "execution_count": 155,
   "metadata": {
    "collapsed": false
   },
   "outputs": [],
   "source": [
    "#data['result'] = data['result'].map(lambda x: x.lstrip('+-').rstrip('aAbBcC'))\n",
    "res['Month'] = res['Month'].map(lambda x: x.rstrip('07'))"
   ]
  },
  {
   "cell_type": "code",
   "execution_count": 156,
   "metadata": {
    "collapsed": true
   },
   "outputs": [],
   "source": [
    "def print_full(x):\n",
    "    pd.set_option('display.max_rows', len(x))\n",
    "    print(x)\n",
    "    pd.reset_option('display.max_rows')"
   ]
  },
  {
   "cell_type": "code",
   "execution_count": 157,
   "metadata": {
    "collapsed": false
   },
   "outputs": [
    {
     "name": "stdout",
     "output_type": "stream",
     "text": [
      "Empty DataFrame\n",
      "Columns: [City, International Visitors, Month, Year]\n",
      "Index: []\n"
     ]
    }
   ],
   "source": [
    "print_full(res)"
   ]
  },
  {
   "cell_type": "code",
   "execution_count": 158,
   "metadata": {
    "collapsed": false
   },
   "outputs": [
    {
     "ename": "ValueError",
     "evalue": "labels [124 125 128 129 132 133 136 137 140 141 144 145 148 149 152 153 156 157\n 160 161 164 165] not contained in axis",
     "output_type": "error",
     "traceback": [
      "\u001b[0;31m---------------------------------------------------------------------------\u001b[0m",
      "\u001b[0;31mValueError\u001b[0m                                Traceback (most recent call last)",
      "\u001b[0;32m<ipython-input-158-95305cda1756>\u001b[0m in \u001b[0;36m<module>\u001b[0;34m()\u001b[0m\n\u001b[0;32m----> 1\u001b[0;31m \u001b[0mres\u001b[0m\u001b[0;34m.\u001b[0m\u001b[0mdrop\u001b[0m\u001b[0;34m(\u001b[0m\u001b[0;34m[\u001b[0m\u001b[0;36m124\u001b[0m\u001b[0;34m,\u001b[0m\u001b[0;36m125\u001b[0m\u001b[0;34m,\u001b[0m\u001b[0;36m128\u001b[0m\u001b[0;34m,\u001b[0m\u001b[0;36m129\u001b[0m\u001b[0;34m,\u001b[0m\u001b[0;36m132\u001b[0m\u001b[0;34m,\u001b[0m\u001b[0;36m133\u001b[0m\u001b[0;34m,\u001b[0m\u001b[0;36m136\u001b[0m\u001b[0;34m,\u001b[0m\u001b[0;36m137\u001b[0m\u001b[0;34m,\u001b[0m\u001b[0;36m140\u001b[0m\u001b[0;34m,\u001b[0m\u001b[0;36m141\u001b[0m\u001b[0;34m,\u001b[0m\u001b[0;36m144\u001b[0m\u001b[0;34m,\u001b[0m\u001b[0;36m145\u001b[0m\u001b[0;34m,\u001b[0m\u001b[0;36m148\u001b[0m\u001b[0;34m,\u001b[0m\u001b[0;36m149\u001b[0m\u001b[0;34m,\u001b[0m\u001b[0;36m152\u001b[0m\u001b[0;34m,\u001b[0m\u001b[0;36m153\u001b[0m\u001b[0;34m,\u001b[0m\u001b[0;36m156\u001b[0m\u001b[0;34m,\u001b[0m\u001b[0;36m157\u001b[0m\u001b[0;34m,\u001b[0m\u001b[0;36m160\u001b[0m\u001b[0;34m,\u001b[0m\u001b[0;36m161\u001b[0m\u001b[0;34m,\u001b[0m\u001b[0;36m164\u001b[0m\u001b[0;34m,\u001b[0m\u001b[0;36m165\u001b[0m\u001b[0;34m]\u001b[0m\u001b[0;34m,\u001b[0m\u001b[0minplace\u001b[0m\u001b[0;34m=\u001b[0m\u001b[0mTrue\u001b[0m\u001b[0;34m)\u001b[0m\u001b[0;34m\u001b[0m\u001b[0m\n\u001b[0m",
      "\u001b[0;32m/Users/mikaelroussel/anaconda/lib/python2.7/site-packages/pandas/core/generic.pyc\u001b[0m in \u001b[0;36mdrop\u001b[0;34m(self, labels, axis, level, inplace, errors)\u001b[0m\n\u001b[1;32m   1875\u001b[0m                 \u001b[0mnew_axis\u001b[0m \u001b[0;34m=\u001b[0m \u001b[0maxis\u001b[0m\u001b[0;34m.\u001b[0m\u001b[0mdrop\u001b[0m\u001b[0;34m(\u001b[0m\u001b[0mlabels\u001b[0m\u001b[0;34m,\u001b[0m \u001b[0mlevel\u001b[0m\u001b[0;34m=\u001b[0m\u001b[0mlevel\u001b[0m\u001b[0;34m,\u001b[0m \u001b[0merrors\u001b[0m\u001b[0;34m=\u001b[0m\u001b[0merrors\u001b[0m\u001b[0;34m)\u001b[0m\u001b[0;34m\u001b[0m\u001b[0m\n\u001b[1;32m   1876\u001b[0m             \u001b[0;32melse\u001b[0m\u001b[0;34m:\u001b[0m\u001b[0;34m\u001b[0m\u001b[0m\n\u001b[0;32m-> 1877\u001b[0;31m                 \u001b[0mnew_axis\u001b[0m \u001b[0;34m=\u001b[0m \u001b[0maxis\u001b[0m\u001b[0;34m.\u001b[0m\u001b[0mdrop\u001b[0m\u001b[0;34m(\u001b[0m\u001b[0mlabels\u001b[0m\u001b[0;34m,\u001b[0m \u001b[0merrors\u001b[0m\u001b[0;34m=\u001b[0m\u001b[0merrors\u001b[0m\u001b[0;34m)\u001b[0m\u001b[0;34m\u001b[0m\u001b[0m\n\u001b[0m\u001b[1;32m   1878\u001b[0m             \u001b[0mdropped\u001b[0m \u001b[0;34m=\u001b[0m \u001b[0mself\u001b[0m\u001b[0;34m.\u001b[0m\u001b[0mreindex\u001b[0m\u001b[0;34m(\u001b[0m\u001b[0;34m**\u001b[0m\u001b[0;34m{\u001b[0m\u001b[0maxis_name\u001b[0m\u001b[0;34m:\u001b[0m \u001b[0mnew_axis\u001b[0m\u001b[0;34m}\u001b[0m\u001b[0;34m)\u001b[0m\u001b[0;34m\u001b[0m\u001b[0m\n\u001b[1;32m   1879\u001b[0m             \u001b[0;32mtry\u001b[0m\u001b[0;34m:\u001b[0m\u001b[0;34m\u001b[0m\u001b[0m\n",
      "\u001b[0;32m/Users/mikaelroussel/anaconda/lib/python2.7/site-packages/pandas/indexes/base.pyc\u001b[0m in \u001b[0;36mdrop\u001b[0;34m(self, labels, errors)\u001b[0m\n\u001b[1;32m   3049\u001b[0m             \u001b[0;32mif\u001b[0m \u001b[0merrors\u001b[0m \u001b[0;34m!=\u001b[0m \u001b[0;34m'ignore'\u001b[0m\u001b[0;34m:\u001b[0m\u001b[0;34m\u001b[0m\u001b[0m\n\u001b[1;32m   3050\u001b[0m                 raise ValueError('labels %s not contained in axis' %\n\u001b[0;32m-> 3051\u001b[0;31m                                  labels[mask])\n\u001b[0m\u001b[1;32m   3052\u001b[0m             \u001b[0mindexer\u001b[0m \u001b[0;34m=\u001b[0m \u001b[0mindexer\u001b[0m\u001b[0;34m[\u001b[0m\u001b[0;34m~\u001b[0m\u001b[0mmask\u001b[0m\u001b[0;34m]\u001b[0m\u001b[0;34m\u001b[0m\u001b[0m\n\u001b[1;32m   3053\u001b[0m         \u001b[0;32mreturn\u001b[0m \u001b[0mself\u001b[0m\u001b[0;34m.\u001b[0m\u001b[0mdelete\u001b[0m\u001b[0;34m(\u001b[0m\u001b[0mindexer\u001b[0m\u001b[0;34m)\u001b[0m\u001b[0;34m\u001b[0m\u001b[0m\n",
      "\u001b[0;31mValueError\u001b[0m: labels [124 125 128 129 132 133 136 137 140 141 144 145 148 149 152 153 156 157\n 160 161 164 165] not contained in axis"
     ]
    }
   ],
   "source": [
    "res.drop([124,125,128,129,132,133,136,137,140,141,144,145,148,149,152,153,156,157,160,161,164,165],inplace=True)\n"
   ]
  },
  {
   "cell_type": "code",
   "execution_count": 159,
   "metadata": {
    "collapsed": false
   },
   "outputs": [
    {
     "name": "stdout",
     "output_type": "stream",
     "text": [
      "Empty DataFrame\n",
      "Columns: [City, International Visitors, Month, Year]\n",
      "Index: []\n"
     ]
    }
   ],
   "source": [
    "print_full(res)"
   ]
  },
  {
   "cell_type": "code",
   "execution_count": 160,
   "metadata": {
    "collapsed": true
   },
   "outputs": [],
   "source": [
    "res['Month'] = res['Month'].str[:3]"
   ]
  },
  {
   "cell_type": "code",
   "execution_count": 161,
   "metadata": {
    "collapsed": false
   },
   "outputs": [
    {
     "name": "stdout",
     "output_type": "stream",
     "text": [
      "Empty DataFrame\n",
      "Columns: [City, International Visitors, Month, Year]\n",
      "Index: []\n"
     ]
    }
   ],
   "source": [
    "print_full(res)"
   ]
  },
  {
   "cell_type": "code",
   "execution_count": 162,
   "metadata": {
    "collapsed": false
   },
   "outputs": [],
   "source": [
    "from time import strptime"
   ]
  },
  {
   "cell_type": "code",
   "execution_count": 163,
   "metadata": {
    "collapsed": false
   },
   "outputs": [],
   "source": [
    "res['Month'] = res['Month'].map(lambda x: strptime(x,'%b').tm_mon)\n"
   ]
  },
  {
   "cell_type": "code",
   "execution_count": 164,
   "metadata": {
    "collapsed": false
   },
   "outputs": [
    {
     "name": "stdout",
     "output_type": "stream",
     "text": [
      "Empty DataFrame\n",
      "Columns: [City, International Visitors, Month, Year]\n",
      "Index: []\n"
     ]
    }
   ],
   "source": [
    "print_full(res)"
   ]
  },
  {
   "cell_type": "code",
   "execution_count": 165,
   "metadata": {
    "collapsed": false
   },
   "outputs": [],
   "source": [
    "#centers = beer.groupby('cluster').mean()\n",
    "res_sum = res.groupby(['Year','Month'])['International Visitors'].sum()\n"
   ]
  },
  {
   "cell_type": "code",
   "execution_count": 166,
   "metadata": {
    "collapsed": false
   },
   "outputs": [],
   "source": [
    "res=pd.DataFrame(res_sum)"
   ]
  },
  {
   "cell_type": "code",
   "execution_count": 167,
   "metadata": {
    "collapsed": false
   },
   "outputs": [],
   "source": [
    "x = np.array([[2007,2008,2009,2010,2011,2012,2013]])\n",
    "Year_repeat=np.repeat(x, 12)\n"
   ]
  },
  {
   "cell_type": "code",
   "execution_count": 168,
   "metadata": {
    "collapsed": false
   },
   "outputs": [],
   "source": [
    "res['Year']=Year_repeat"
   ]
  },
  {
   "cell_type": "code",
   "execution_count": 170,
   "metadata": {
    "collapsed": false
   },
   "outputs": [],
   "source": [
    "res.to_csv(path_or_buf='../../../Desktop/Data Science Final Project/Monthly arrivals/res',header=None,index=False)"
   ]
  },
  {
   "cell_type": "code",
   "execution_count": 171,
   "metadata": {
    "collapsed": false
   },
   "outputs": [],
   "source": [
    "data_frame=pd.read_csv('../../../Desktop/Data Science Final Project/Monthly arrivals/International Visitors to NYC.csv')"
   ]
  },
  {
   "cell_type": "code",
   "execution_count": 172,
   "metadata": {
    "collapsed": false
   },
   "outputs": [
    {
     "data": {
      "text/html": [
       "<div>\n",
       "<table border=\"1\" class=\"dataframe\">\n",
       "  <thead>\n",
       "    <tr style=\"text-align: right;\">\n",
       "      <th></th>\n",
       "      <th>International Visitors</th>\n",
       "      <th>Year</th>\n",
       "      <th>Month</th>\n",
       "      <th>Year and Month</th>\n",
       "    </tr>\n",
       "  </thead>\n",
       "  <tbody>\n",
       "    <tr>\n",
       "      <th>0</th>\n",
       "      <td>296193</td>\n",
       "      <td>2007</td>\n",
       "      <td>1</td>\n",
       "      <td>Jan-07</td>\n",
       "    </tr>\n",
       "    <tr>\n",
       "      <th>1</th>\n",
       "      <td>311727</td>\n",
       "      <td>2007</td>\n",
       "      <td>2</td>\n",
       "      <td>Feb-07</td>\n",
       "    </tr>\n",
       "    <tr>\n",
       "      <th>2</th>\n",
       "      <td>418833</td>\n",
       "      <td>2007</td>\n",
       "      <td>3</td>\n",
       "      <td>Mar-07</td>\n",
       "    </tr>\n",
       "    <tr>\n",
       "      <th>3</th>\n",
       "      <td>451262</td>\n",
       "      <td>2007</td>\n",
       "      <td>4</td>\n",
       "      <td>Apr-07</td>\n",
       "    </tr>\n",
       "    <tr>\n",
       "      <th>4</th>\n",
       "      <td>437930</td>\n",
       "      <td>2007</td>\n",
       "      <td>5</td>\n",
       "      <td>May-07</td>\n",
       "    </tr>\n",
       "    <tr>\n",
       "      <th>5</th>\n",
       "      <td>452837</td>\n",
       "      <td>2007</td>\n",
       "      <td>6</td>\n",
       "      <td>Jun-07</td>\n",
       "    </tr>\n",
       "    <tr>\n",
       "      <th>6</th>\n",
       "      <td>522215</td>\n",
       "      <td>2007</td>\n",
       "      <td>7</td>\n",
       "      <td>Jul-07</td>\n",
       "    </tr>\n",
       "    <tr>\n",
       "      <th>7</th>\n",
       "      <td>500939</td>\n",
       "      <td>2007</td>\n",
       "      <td>8</td>\n",
       "      <td>Aug-07</td>\n",
       "    </tr>\n",
       "    <tr>\n",
       "      <th>8</th>\n",
       "      <td>462096</td>\n",
       "      <td>2007</td>\n",
       "      <td>9</td>\n",
       "      <td>Sep-07</td>\n",
       "    </tr>\n",
       "    <tr>\n",
       "      <th>9</th>\n",
       "      <td>531863</td>\n",
       "      <td>2007</td>\n",
       "      <td>10</td>\n",
       "      <td>Oct-07</td>\n",
       "    </tr>\n",
       "    <tr>\n",
       "      <th>10</th>\n",
       "      <td>465601</td>\n",
       "      <td>2007</td>\n",
       "      <td>11</td>\n",
       "      <td>Nov-07</td>\n",
       "    </tr>\n",
       "    <tr>\n",
       "      <th>11</th>\n",
       "      <td>544932</td>\n",
       "      <td>2007</td>\n",
       "      <td>12</td>\n",
       "      <td>Dec-07</td>\n",
       "    </tr>\n",
       "    <tr>\n",
       "      <th>12</th>\n",
       "      <td>348654</td>\n",
       "      <td>2008</td>\n",
       "      <td>1</td>\n",
       "      <td>Jan-08</td>\n",
       "    </tr>\n",
       "    <tr>\n",
       "      <th>13</th>\n",
       "      <td>369359</td>\n",
       "      <td>2008</td>\n",
       "      <td>2</td>\n",
       "      <td>Feb-08</td>\n",
       "    </tr>\n",
       "    <tr>\n",
       "      <th>14</th>\n",
       "      <td>494836</td>\n",
       "      <td>2008</td>\n",
       "      <td>3</td>\n",
       "      <td>Mar-08</td>\n",
       "    </tr>\n",
       "    <tr>\n",
       "      <th>15</th>\n",
       "      <td>518013</td>\n",
       "      <td>2008</td>\n",
       "      <td>4</td>\n",
       "      <td>Apr-08</td>\n",
       "    </tr>\n",
       "    <tr>\n",
       "      <th>16</th>\n",
       "      <td>542766</td>\n",
       "      <td>2008</td>\n",
       "      <td>5</td>\n",
       "      <td>May-08</td>\n",
       "    </tr>\n",
       "    <tr>\n",
       "      <th>17</th>\n",
       "      <td>525695</td>\n",
       "      <td>2008</td>\n",
       "      <td>6</td>\n",
       "      <td>Jun-08</td>\n",
       "    </tr>\n",
       "    <tr>\n",
       "      <th>18</th>\n",
       "      <td>608951</td>\n",
       "      <td>2008</td>\n",
       "      <td>7</td>\n",
       "      <td>Jul-08</td>\n",
       "    </tr>\n",
       "    <tr>\n",
       "      <th>19</th>\n",
       "      <td>587267</td>\n",
       "      <td>2008</td>\n",
       "      <td>8</td>\n",
       "      <td>Aug-08</td>\n",
       "    </tr>\n",
       "    <tr>\n",
       "      <th>20</th>\n",
       "      <td>531533</td>\n",
       "      <td>2008</td>\n",
       "      <td>9</td>\n",
       "      <td>Sep-08</td>\n",
       "    </tr>\n",
       "    <tr>\n",
       "      <th>21</th>\n",
       "      <td>582968</td>\n",
       "      <td>2008</td>\n",
       "      <td>10</td>\n",
       "      <td>Oct-08</td>\n",
       "    </tr>\n",
       "    <tr>\n",
       "      <th>22</th>\n",
       "      <td>443713</td>\n",
       "      <td>2008</td>\n",
       "      <td>11</td>\n",
       "      <td>Nov-08</td>\n",
       "    </tr>\n",
       "    <tr>\n",
       "      <th>23</th>\n",
       "      <td>535990</td>\n",
       "      <td>2008</td>\n",
       "      <td>12</td>\n",
       "      <td>Dec-08</td>\n",
       "    </tr>\n",
       "    <tr>\n",
       "      <th>24</th>\n",
       "      <td>310068</td>\n",
       "      <td>2009</td>\n",
       "      <td>1</td>\n",
       "      <td>Jan-09</td>\n",
       "    </tr>\n",
       "    <tr>\n",
       "      <th>25</th>\n",
       "      <td>326371</td>\n",
       "      <td>2009</td>\n",
       "      <td>2</td>\n",
       "      <td>Feb-09</td>\n",
       "    </tr>\n",
       "    <tr>\n",
       "      <th>26</th>\n",
       "      <td>388153</td>\n",
       "      <td>2009</td>\n",
       "      <td>3</td>\n",
       "      <td>Mar-09</td>\n",
       "    </tr>\n",
       "    <tr>\n",
       "      <th>27</th>\n",
       "      <td>526712</td>\n",
       "      <td>2009</td>\n",
       "      <td>4</td>\n",
       "      <td>Apr-09</td>\n",
       "    </tr>\n",
       "    <tr>\n",
       "      <th>28</th>\n",
       "      <td>475869</td>\n",
       "      <td>2009</td>\n",
       "      <td>5</td>\n",
       "      <td>May-09</td>\n",
       "    </tr>\n",
       "    <tr>\n",
       "      <th>29</th>\n",
       "      <td>493815</td>\n",
       "      <td>2009</td>\n",
       "      <td>6</td>\n",
       "      <td>Jun-09</td>\n",
       "    </tr>\n",
       "    <tr>\n",
       "      <th>...</th>\n",
       "      <td>...</td>\n",
       "      <td>...</td>\n",
       "      <td>...</td>\n",
       "      <td>...</td>\n",
       "    </tr>\n",
       "    <tr>\n",
       "      <th>54</th>\n",
       "      <td>657382</td>\n",
       "      <td>2011</td>\n",
       "      <td>7</td>\n",
       "      <td>Jul-11</td>\n",
       "    </tr>\n",
       "    <tr>\n",
       "      <th>55</th>\n",
       "      <td>588893</td>\n",
       "      <td>2011</td>\n",
       "      <td>8</td>\n",
       "      <td>Aug-11</td>\n",
       "    </tr>\n",
       "    <tr>\n",
       "      <th>56</th>\n",
       "      <td>578495</td>\n",
       "      <td>2011</td>\n",
       "      <td>9</td>\n",
       "      <td>Sep-11</td>\n",
       "    </tr>\n",
       "    <tr>\n",
       "      <th>57</th>\n",
       "      <td>607438</td>\n",
       "      <td>2011</td>\n",
       "      <td>10</td>\n",
       "      <td>Oct-11</td>\n",
       "    </tr>\n",
       "    <tr>\n",
       "      <th>58</th>\n",
       "      <td>446991</td>\n",
       "      <td>2011</td>\n",
       "      <td>11</td>\n",
       "      <td>Nov-11</td>\n",
       "    </tr>\n",
       "    <tr>\n",
       "      <th>59</th>\n",
       "      <td>541575</td>\n",
       "      <td>2011</td>\n",
       "      <td>12</td>\n",
       "      <td>Dec-11</td>\n",
       "    </tr>\n",
       "    <tr>\n",
       "      <th>60</th>\n",
       "      <td>716854</td>\n",
       "      <td>2012</td>\n",
       "      <td>1</td>\n",
       "      <td>Jan-12</td>\n",
       "    </tr>\n",
       "    <tr>\n",
       "      <th>61</th>\n",
       "      <td>376039</td>\n",
       "      <td>2012</td>\n",
       "      <td>2</td>\n",
       "      <td>Feb-12</td>\n",
       "    </tr>\n",
       "    <tr>\n",
       "      <th>62</th>\n",
       "      <td>510776</td>\n",
       "      <td>2012</td>\n",
       "      <td>3</td>\n",
       "      <td>Mar-12</td>\n",
       "    </tr>\n",
       "    <tr>\n",
       "      <th>63</th>\n",
       "      <td>595079</td>\n",
       "      <td>2012</td>\n",
       "      <td>4</td>\n",
       "      <td>Apr-12</td>\n",
       "    </tr>\n",
       "    <tr>\n",
       "      <th>64</th>\n",
       "      <td>588703</td>\n",
       "      <td>2012</td>\n",
       "      <td>5</td>\n",
       "      <td>May-12</td>\n",
       "    </tr>\n",
       "    <tr>\n",
       "      <th>65</th>\n",
       "      <td>612899</td>\n",
       "      <td>2012</td>\n",
       "      <td>6</td>\n",
       "      <td>Jun-12</td>\n",
       "    </tr>\n",
       "    <tr>\n",
       "      <th>66</th>\n",
       "      <td>691125</td>\n",
       "      <td>2012</td>\n",
       "      <td>7</td>\n",
       "      <td>Jul-12</td>\n",
       "    </tr>\n",
       "    <tr>\n",
       "      <th>67</th>\n",
       "      <td>658443</td>\n",
       "      <td>2012</td>\n",
       "      <td>8</td>\n",
       "      <td>Aug-12</td>\n",
       "    </tr>\n",
       "    <tr>\n",
       "      <th>68</th>\n",
       "      <td>611353</td>\n",
       "      <td>2012</td>\n",
       "      <td>9</td>\n",
       "      <td>Sep-12</td>\n",
       "    </tr>\n",
       "    <tr>\n",
       "      <th>69</th>\n",
       "      <td>582831</td>\n",
       "      <td>2012</td>\n",
       "      <td>10</td>\n",
       "      <td>Oct-12</td>\n",
       "    </tr>\n",
       "    <tr>\n",
       "      <th>70</th>\n",
       "      <td>459239</td>\n",
       "      <td>2012</td>\n",
       "      <td>11</td>\n",
       "      <td>Nov-12</td>\n",
       "    </tr>\n",
       "    <tr>\n",
       "      <th>71</th>\n",
       "      <td>579383</td>\n",
       "      <td>2012</td>\n",
       "      <td>12</td>\n",
       "      <td>Dec-12</td>\n",
       "    </tr>\n",
       "    <tr>\n",
       "      <th>72</th>\n",
       "      <td>394784</td>\n",
       "      <td>2013</td>\n",
       "      <td>1</td>\n",
       "      <td>Jan-13</td>\n",
       "    </tr>\n",
       "    <tr>\n",
       "      <th>73</th>\n",
       "      <td>371373</td>\n",
       "      <td>2013</td>\n",
       "      <td>2</td>\n",
       "      <td>Feb-13</td>\n",
       "    </tr>\n",
       "    <tr>\n",
       "      <th>74</th>\n",
       "      <td>568186</td>\n",
       "      <td>2013</td>\n",
       "      <td>3</td>\n",
       "      <td>Mar-13</td>\n",
       "    </tr>\n",
       "    <tr>\n",
       "      <th>75</th>\n",
       "      <td>587296</td>\n",
       "      <td>2013</td>\n",
       "      <td>4</td>\n",
       "      <td>Apr-13</td>\n",
       "    </tr>\n",
       "    <tr>\n",
       "      <th>76</th>\n",
       "      <td>649946</td>\n",
       "      <td>2013</td>\n",
       "      <td>5</td>\n",
       "      <td>May-13</td>\n",
       "    </tr>\n",
       "    <tr>\n",
       "      <th>77</th>\n",
       "      <td>644246</td>\n",
       "      <td>2013</td>\n",
       "      <td>6</td>\n",
       "      <td>Jun-13</td>\n",
       "    </tr>\n",
       "    <tr>\n",
       "      <th>78</th>\n",
       "      <td>709465</td>\n",
       "      <td>2013</td>\n",
       "      <td>7</td>\n",
       "      <td>Jul-13</td>\n",
       "    </tr>\n",
       "    <tr>\n",
       "      <th>79</th>\n",
       "      <td>707210</td>\n",
       "      <td>2013</td>\n",
       "      <td>8</td>\n",
       "      <td>Aug-13</td>\n",
       "    </tr>\n",
       "    <tr>\n",
       "      <th>80</th>\n",
       "      <td>645782</td>\n",
       "      <td>2013</td>\n",
       "      <td>9</td>\n",
       "      <td>Sep-13</td>\n",
       "    </tr>\n",
       "    <tr>\n",
       "      <th>81</th>\n",
       "      <td>694891</td>\n",
       "      <td>2013</td>\n",
       "      <td>10</td>\n",
       "      <td>Oct-13</td>\n",
       "    </tr>\n",
       "    <tr>\n",
       "      <th>82</th>\n",
       "      <td>525742</td>\n",
       "      <td>2013</td>\n",
       "      <td>11</td>\n",
       "      <td>Nov-13</td>\n",
       "    </tr>\n",
       "    <tr>\n",
       "      <th>83</th>\n",
       "      <td>647859</td>\n",
       "      <td>2013</td>\n",
       "      <td>12</td>\n",
       "      <td>Dec-13</td>\n",
       "    </tr>\n",
       "  </tbody>\n",
       "</table>\n",
       "<p>84 rows × 4 columns</p>\n",
       "</div>"
      ],
      "text/plain": [
       "    International Visitors  Year  Month Year and Month\n",
       "0                   296193  2007      1         Jan-07\n",
       "1                   311727  2007      2         Feb-07\n",
       "2                   418833  2007      3         Mar-07\n",
       "3                   451262  2007      4         Apr-07\n",
       "4                   437930  2007      5         May-07\n",
       "5                   452837  2007      6         Jun-07\n",
       "6                   522215  2007      7         Jul-07\n",
       "7                   500939  2007      8         Aug-07\n",
       "8                   462096  2007      9         Sep-07\n",
       "9                   531863  2007     10         Oct-07\n",
       "10                  465601  2007     11         Nov-07\n",
       "11                  544932  2007     12         Dec-07\n",
       "12                  348654  2008      1         Jan-08\n",
       "13                  369359  2008      2         Feb-08\n",
       "14                  494836  2008      3         Mar-08\n",
       "15                  518013  2008      4         Apr-08\n",
       "16                  542766  2008      5         May-08\n",
       "17                  525695  2008      6         Jun-08\n",
       "18                  608951  2008      7         Jul-08\n",
       "19                  587267  2008      8         Aug-08\n",
       "20                  531533  2008      9         Sep-08\n",
       "21                  582968  2008     10         Oct-08\n",
       "22                  443713  2008     11         Nov-08\n",
       "23                  535990  2008     12         Dec-08\n",
       "24                  310068  2009      1         Jan-09\n",
       "25                  326371  2009      2         Feb-09\n",
       "26                  388153  2009      3         Mar-09\n",
       "27                  526712  2009      4         Apr-09\n",
       "28                  475869  2009      5         May-09\n",
       "29                  493815  2009      6         Jun-09\n",
       "..                     ...   ...    ...            ...\n",
       "54                  657382  2011      7         Jul-11\n",
       "55                  588893  2011      8         Aug-11\n",
       "56                  578495  2011      9         Sep-11\n",
       "57                  607438  2011     10         Oct-11\n",
       "58                  446991  2011     11         Nov-11\n",
       "59                  541575  2011     12         Dec-11\n",
       "60                  716854  2012      1         Jan-12\n",
       "61                  376039  2012      2         Feb-12\n",
       "62                  510776  2012      3         Mar-12\n",
       "63                  595079  2012      4         Apr-12\n",
       "64                  588703  2012      5         May-12\n",
       "65                  612899  2012      6         Jun-12\n",
       "66                  691125  2012      7         Jul-12\n",
       "67                  658443  2012      8         Aug-12\n",
       "68                  611353  2012      9         Sep-12\n",
       "69                  582831  2012     10         Oct-12\n",
       "70                  459239  2012     11         Nov-12\n",
       "71                  579383  2012     12         Dec-12\n",
       "72                  394784  2013      1         Jan-13\n",
       "73                  371373  2013      2         Feb-13\n",
       "74                  568186  2013      3         Mar-13\n",
       "75                  587296  2013      4         Apr-13\n",
       "76                  649946  2013      5         May-13\n",
       "77                  644246  2013      6         Jun-13\n",
       "78                  709465  2013      7         Jul-13\n",
       "79                  707210  2013      8         Aug-13\n",
       "80                  645782  2013      9         Sep-13\n",
       "81                  694891  2013     10         Oct-13\n",
       "82                  525742  2013     11         Nov-13\n",
       "83                  647859  2013     12         Dec-13\n",
       "\n",
       "[84 rows x 4 columns]"
      ]
     },
     "execution_count": 172,
     "metadata": {},
     "output_type": "execute_result"
    }
   ],
   "source": [
    "data_frame"
   ]
  },
  {
   "cell_type": "code",
   "execution_count": 173,
   "metadata": {
    "collapsed": false
   },
   "outputs": [
    {
     "data": {
      "text/html": [
       "<div>\n",
       "<table border=\"1\" class=\"dataframe\">\n",
       "  <thead>\n",
       "    <tr style=\"text-align: right;\">\n",
       "      <th></th>\n",
       "      <th>International Visitors</th>\n",
       "      <th>Year</th>\n",
       "      <th>Month</th>\n",
       "    </tr>\n",
       "  </thead>\n",
       "  <tbody>\n",
       "    <tr>\n",
       "      <th>count</th>\n",
       "      <td>84.000000</td>\n",
       "      <td>84.000000</td>\n",
       "      <td>84.000000</td>\n",
       "    </tr>\n",
       "    <tr>\n",
       "      <th>mean</th>\n",
       "      <td>518369.857143</td>\n",
       "      <td>2010.000000</td>\n",
       "      <td>6.500000</td>\n",
       "    </tr>\n",
       "    <tr>\n",
       "      <th>std</th>\n",
       "      <td>104126.064810</td>\n",
       "      <td>2.012012</td>\n",
       "      <td>3.472786</td>\n",
       "    </tr>\n",
       "    <tr>\n",
       "      <th>min</th>\n",
       "      <td>296193.000000</td>\n",
       "      <td>2007.000000</td>\n",
       "      <td>1.000000</td>\n",
       "    </tr>\n",
       "    <tr>\n",
       "      <th>25%</th>\n",
       "      <td>450194.250000</td>\n",
       "      <td>2008.000000</td>\n",
       "      <td>3.750000</td>\n",
       "    </tr>\n",
       "    <tr>\n",
       "      <th>50%</th>\n",
       "      <td>533926.500000</td>\n",
       "      <td>2010.000000</td>\n",
       "      <td>6.500000</td>\n",
       "    </tr>\n",
       "    <tr>\n",
       "      <th>75%</th>\n",
       "      <td>587274.250000</td>\n",
       "      <td>2012.000000</td>\n",
       "      <td>9.250000</td>\n",
       "    </tr>\n",
       "    <tr>\n",
       "      <th>max</th>\n",
       "      <td>716854.000000</td>\n",
       "      <td>2013.000000</td>\n",
       "      <td>12.000000</td>\n",
       "    </tr>\n",
       "  </tbody>\n",
       "</table>\n",
       "</div>"
      ],
      "text/plain": [
       "       International Visitors         Year      Month\n",
       "count               84.000000    84.000000  84.000000\n",
       "mean            518369.857143  2010.000000   6.500000\n",
       "std             104126.064810     2.012012   3.472786\n",
       "min             296193.000000  2007.000000   1.000000\n",
       "25%             450194.250000  2008.000000   3.750000\n",
       "50%             533926.500000  2010.000000   6.500000\n",
       "75%             587274.250000  2012.000000   9.250000\n",
       "max             716854.000000  2013.000000  12.000000"
      ]
     },
     "execution_count": 173,
     "metadata": {},
     "output_type": "execute_result"
    }
   ],
   "source": [
    "data_frame.describe()\n"
   ]
  },
  {
   "cell_type": "code",
   "execution_count": 174,
   "metadata": {
    "collapsed": true
   },
   "outputs": [],
   "source": [
    "import matplotlib.pyplot as plt\n",
    "%matplotlib inline"
   ]
  },
  {
   "cell_type": "code",
   "execution_count": 175,
   "metadata": {
    "collapsed": false
   },
   "outputs": [
    {
     "data": {
      "image/png": "[encoded data removed]",
      "text/plain": [
       "<matplotlib.figure.Figure at 0x11c035890>"
      ]
     },
     "metadata": {},
     "output_type": "display_data"
    }
   ],
   "source": [
    "#Box plot for International Visitors\n",
    "plt.boxplot(data_frame['International Visitors'])\n",
    "plt.xlabel('International Visitors')\n",
    "plt.show()"
   ]
  },
  {
   "cell_type": "markdown",
   "metadata": {},
   "source": [
    "The plot shows that the number of international visitors is slightly skewed to the left of the median."
   ]
  },
  {
   "cell_type": "code",
   "execution_count": 176,
   "metadata": {
    "collapsed": false
   },
   "outputs": [
    {
     "data": {
      "text/plain": [
       "<matplotlib.axes._subplots.AxesSubplot at 0x11c0948d0>"
      ]
     },
     "execution_count": 176,
     "metadata": {},
     "output_type": "execute_result"
    },
    {
     "data": {
      "image/png": "[encoded data removed]",
      "text/plain": [
       "<matplotlib.figure.Figure at 0x11c33b7d0>"
      ]
     },
     "metadata": {},
     "output_type": "display_data"
    }
   ],
   "source": [
    "data_frame['International Visitors'].plot(kind='density')\n"
   ]
  },
  {
   "cell_type": "markdown",
   "metadata": {},
   "source": [
    "This probability distribution also shows a slightly left leaning skew. The data looks like it is normally distributed howver, so it doesn not seem like any data transformation is needed."
   ]
  },
  {
   "cell_type": "code",
   "execution_count": 177,
   "metadata": {
    "collapsed": true
   },
   "outputs": [],
   "source": [
    "import seaborn as sb\n",
    "%matplotlib inline"
   ]
  },
  {
   "cell_type": "code",
   "execution_count": 181,
   "metadata": {
    "collapsed": false,
    "scrolled": true
   },
   "outputs": [
    {
     "data": {
      "text/plain": [
       "<matplotlib.axes._subplots.AxesSubplot at 0x11be1f390>"
      ]
     },
     "execution_count": 181,
     "metadata": {},
     "output_type": "execute_result"
    },
    {
     "data": {
      "image/png": "[encoded data removed]",
      "text/plain": [
       "<matplotlib.figure.Figure at 0x11c817c90>"
      ]
     },
     "metadata": {},
     "output_type": "display_data"
    }
   ],
   "source": [
    "data_frame[['International Visitors']].plot(x=data_frame['Year and Month'])"
   ]
  },
  {
   "cell_type": "markdown",
   "metadata": {},
   "source": [
    "The graph above shows the number of international visitors arriving through New York City airports for every month from 2007 to 2013. This time series shows both a postive trend and seasonal patterns in the numbers of visitors. The numbers seem to gradually go up from January and reach their apex around July and then go down until they reach the lowest point in around November."
   ]
  }
 ],
 "metadata": {
  "anaconda-cloud": {},
  "kernelspec": {
   "display_name": "Python [Root]",
   "language": "python",
   "name": "Python [Root]"
  },
  "language_info": {
   "codemirror_mode": {
    "name": "ipython",
    "version": 2
   },
   "file_extension": ".py",
   "mimetype": "text/x-python",
   "name": "python",
   "nbconvert_exporter": "python",
   "pygments_lexer": "ipython2",
   "version": "2.7.12"
  }
 },
 "nbformat": 4,
 "nbformat_minor": 0
}
